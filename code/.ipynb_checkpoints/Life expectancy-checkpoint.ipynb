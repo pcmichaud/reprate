{
 "cells": [
  {
   "cell_type": "markdown",
   "id": "a68c13ee",
   "metadata": {},
   "source": [
    "## Import the Life table fot Canadian men from Human Mortality Database"
   ]
  },
  {
   "cell_type": "code",
   "execution_count": 9,
   "id": "dc819f62",
   "metadata": {
    "ExecuteTime": {
     "end_time": "2024-02-07T21:37:06.690184Z",
     "start_time": "2024-02-07T21:37:06.653887Z"
    }
   },
   "outputs": [
    {
     "data": {
      "text/html": [
       "<div>\n",
       "<style scoped>\n",
       "    .dataframe tbody tr th:only-of-type {\n",
       "        vertical-align: middle;\n",
       "    }\n",
       "\n",
       "    .dataframe tbody tr th {\n",
       "        vertical-align: top;\n",
       "    }\n",
       "\n",
       "    .dataframe thead th {\n",
       "        text-align: right;\n",
       "    }\n",
       "</style>\n",
       "<table border=\"1\" class=\"dataframe\">\n",
       "  <thead>\n",
       "    <tr style=\"text-align: right;\">\n",
       "      <th></th>\n",
       "      <th>Year</th>\n",
       "      <th>Age</th>\n",
       "      <th>mx</th>\n",
       "      <th>qx</th>\n",
       "      <th>ax</th>\n",
       "      <th>lx</th>\n",
       "      <th>dx</th>\n",
       "      <th>Lx</th>\n",
       "      <th>Tx</th>\n",
       "      <th>ex</th>\n",
       "    </tr>\n",
       "  </thead>\n",
       "  <tbody>\n",
       "    <tr>\n",
       "      <th>0</th>\n",
       "      <td>1921</td>\n",
       "      <td>0</td>\n",
       "      <td>0.13825</td>\n",
       "      <td>0.12604</td>\n",
       "      <td>0.30</td>\n",
       "      <td>100000</td>\n",
       "      <td>12604</td>\n",
       "      <td>91167</td>\n",
       "      <td>5602724</td>\n",
       "      <td>56.03</td>\n",
       "    </tr>\n",
       "    <tr>\n",
       "      <th>1</th>\n",
       "      <td>1921</td>\n",
       "      <td>1</td>\n",
       "      <td>0.01781</td>\n",
       "      <td>0.01765</td>\n",
       "      <td>0.50</td>\n",
       "      <td>87396</td>\n",
       "      <td>1542</td>\n",
       "      <td>86625</td>\n",
       "      <td>5511557</td>\n",
       "      <td>63.06</td>\n",
       "    </tr>\n",
       "    <tr>\n",
       "      <th>2</th>\n",
       "      <td>1921</td>\n",
       "      <td>2</td>\n",
       "      <td>0.00852</td>\n",
       "      <td>0.00848</td>\n",
       "      <td>0.50</td>\n",
       "      <td>85854</td>\n",
       "      <td>728</td>\n",
       "      <td>85490</td>\n",
       "      <td>5424932</td>\n",
       "      <td>63.19</td>\n",
       "    </tr>\n",
       "    <tr>\n",
       "      <th>3</th>\n",
       "      <td>1921</td>\n",
       "      <td>3</td>\n",
       "      <td>0.00611</td>\n",
       "      <td>0.00609</td>\n",
       "      <td>0.50</td>\n",
       "      <td>85125</td>\n",
       "      <td>519</td>\n",
       "      <td>84866</td>\n",
       "      <td>5339443</td>\n",
       "      <td>62.72</td>\n",
       "    </tr>\n",
       "    <tr>\n",
       "      <th>4</th>\n",
       "      <td>1921</td>\n",
       "      <td>4</td>\n",
       "      <td>0.00474</td>\n",
       "      <td>0.00473</td>\n",
       "      <td>0.50</td>\n",
       "      <td>84607</td>\n",
       "      <td>401</td>\n",
       "      <td>84406</td>\n",
       "      <td>5254577</td>\n",
       "      <td>62.11</td>\n",
       "    </tr>\n",
       "    <tr>\n",
       "      <th>...</th>\n",
       "      <td>...</td>\n",
       "      <td>...</td>\n",
       "      <td>...</td>\n",
       "      <td>...</td>\n",
       "      <td>...</td>\n",
       "      <td>...</td>\n",
       "      <td>...</td>\n",
       "      <td>...</td>\n",
       "      <td>...</td>\n",
       "      <td>...</td>\n",
       "    </tr>\n",
       "    <tr>\n",
       "      <th>11206</th>\n",
       "      <td>2021</td>\n",
       "      <td>106</td>\n",
       "      <td>0.60085</td>\n",
       "      <td>0.46204</td>\n",
       "      <td>0.50</td>\n",
       "      <td>97</td>\n",
       "      <td>45</td>\n",
       "      <td>75</td>\n",
       "      <td>154</td>\n",
       "      <td>1.59</td>\n",
       "    </tr>\n",
       "    <tr>\n",
       "      <th>11207</th>\n",
       "      <td>2021</td>\n",
       "      <td>107</td>\n",
       "      <td>0.63202</td>\n",
       "      <td>0.48026</td>\n",
       "      <td>0.50</td>\n",
       "      <td>52</td>\n",
       "      <td>25</td>\n",
       "      <td>40</td>\n",
       "      <td>79</td>\n",
       "      <td>1.52</td>\n",
       "    </tr>\n",
       "    <tr>\n",
       "      <th>11208</th>\n",
       "      <td>2021</td>\n",
       "      <td>108</td>\n",
       "      <td>0.66214</td>\n",
       "      <td>0.49745</td>\n",
       "      <td>0.50</td>\n",
       "      <td>27</td>\n",
       "      <td>13</td>\n",
       "      <td>20</td>\n",
       "      <td>40</td>\n",
       "      <td>1.47</td>\n",
       "    </tr>\n",
       "    <tr>\n",
       "      <th>11209</th>\n",
       "      <td>2021</td>\n",
       "      <td>109</td>\n",
       "      <td>0.69099</td>\n",
       "      <td>0.51356</td>\n",
       "      <td>0.50</td>\n",
       "      <td>14</td>\n",
       "      <td>7</td>\n",
       "      <td>10</td>\n",
       "      <td>19</td>\n",
       "      <td>1.42</td>\n",
       "    </tr>\n",
       "    <tr>\n",
       "      <th>11210</th>\n",
       "      <td>2021</td>\n",
       "      <td>110</td>\n",
       "      <td>0.71843</td>\n",
       "      <td>1.00000</td>\n",
       "      <td>1.39</td>\n",
       "      <td>7</td>\n",
       "      <td>7</td>\n",
       "      <td>9</td>\n",
       "      <td>9</td>\n",
       "      <td>1.39</td>\n",
       "    </tr>\n",
       "  </tbody>\n",
       "</table>\n",
       "<p>11211 rows × 10 columns</p>\n",
       "</div>"
      ],
      "text/plain": [
       "       Year  Age       mx       qx    ax      lx     dx     Lx       Tx     ex\n",
       "0      1921    0  0.13825  0.12604  0.30  100000  12604  91167  5602724  56.03\n",
       "1      1921    1  0.01781  0.01765  0.50   87396   1542  86625  5511557  63.06\n",
       "2      1921    2  0.00852  0.00848  0.50   85854    728  85490  5424932  63.19\n",
       "3      1921    3  0.00611  0.00609  0.50   85125    519  84866  5339443  62.72\n",
       "4      1921    4  0.00474  0.00473  0.50   84607    401  84406  5254577  62.11\n",
       "...     ...  ...      ...      ...   ...     ...    ...    ...      ...    ...\n",
       "11206  2021  106  0.60085  0.46204  0.50      97     45     75      154   1.59\n",
       "11207  2021  107  0.63202  0.48026  0.50      52     25     40       79   1.52\n",
       "11208  2021  108  0.66214  0.49745  0.50      27     13     20       40   1.47\n",
       "11209  2021  109  0.69099  0.51356  0.50      14      7     10       19   1.42\n",
       "11210  2021  110  0.71843  1.00000  1.39       7      7      9        9   1.39\n",
       "\n",
       "[11211 rows x 10 columns]"
      ]
     },
     "execution_count": 9,
     "metadata": {},
     "output_type": "execute_result"
    }
   ],
   "source": [
    "import pandas as pd\n",
    "df = pd.read_csv('../data/mortality_men.csv', sep=';')\n",
    "df"
   ]
  },
  {
   "cell_type": "markdown",
   "id": "7381d050",
   "metadata": {},
   "source": [
    "## Keep only mortality rate for a given year"
   ]
  },
  {
   "cell_type": "code",
   "execution_count": 10,
   "id": "427b5a34",
   "metadata": {
    "ExecuteTime": {
     "end_time": "2024-02-07T21:37:08.401080Z",
     "start_time": "2024-02-07T21:37:08.389567Z"
    }
   },
   "outputs": [
    {
     "data": {
      "text/html": [
       "<div>\n",
       "<style scoped>\n",
       "    .dataframe tbody tr th:only-of-type {\n",
       "        vertical-align: middle;\n",
       "    }\n",
       "\n",
       "    .dataframe tbody tr th {\n",
       "        vertical-align: top;\n",
       "    }\n",
       "\n",
       "    .dataframe thead th {\n",
       "        text-align: right;\n",
       "    }\n",
       "</style>\n",
       "<table border=\"1\" class=\"dataframe\">\n",
       "  <thead>\n",
       "    <tr style=\"text-align: right;\">\n",
       "      <th></th>\n",
       "      <th>Age</th>\n",
       "      <th>mx</th>\n",
       "    </tr>\n",
       "  </thead>\n",
       "  <tbody>\n",
       "    <tr>\n",
       "      <th>0</th>\n",
       "      <td>0</td>\n",
       "      <td>0.00479</td>\n",
       "    </tr>\n",
       "    <tr>\n",
       "      <th>1</th>\n",
       "      <td>1</td>\n",
       "      <td>0.00026</td>\n",
       "    </tr>\n",
       "    <tr>\n",
       "      <th>2</th>\n",
       "      <td>2</td>\n",
       "      <td>0.00017</td>\n",
       "    </tr>\n",
       "    <tr>\n",
       "      <th>3</th>\n",
       "      <td>3</td>\n",
       "      <td>0.00017</td>\n",
       "    </tr>\n",
       "    <tr>\n",
       "      <th>4</th>\n",
       "      <td>4</td>\n",
       "      <td>0.00011</td>\n",
       "    </tr>\n",
       "    <tr>\n",
       "      <th>...</th>\n",
       "      <td>...</td>\n",
       "      <td>...</td>\n",
       "    </tr>\n",
       "    <tr>\n",
       "      <th>106</th>\n",
       "      <td>106</td>\n",
       "      <td>0.60085</td>\n",
       "    </tr>\n",
       "    <tr>\n",
       "      <th>107</th>\n",
       "      <td>107</td>\n",
       "      <td>0.63202</td>\n",
       "    </tr>\n",
       "    <tr>\n",
       "      <th>108</th>\n",
       "      <td>108</td>\n",
       "      <td>0.66214</td>\n",
       "    </tr>\n",
       "    <tr>\n",
       "      <th>109</th>\n",
       "      <td>109</td>\n",
       "      <td>0.69099</td>\n",
       "    </tr>\n",
       "    <tr>\n",
       "      <th>110</th>\n",
       "      <td>110</td>\n",
       "      <td>0.71843</td>\n",
       "    </tr>\n",
       "  </tbody>\n",
       "</table>\n",
       "<p>111 rows × 2 columns</p>\n",
       "</div>"
      ],
      "text/plain": [
       "     Age       mx\n",
       "0      0  0.00479\n",
       "1      1  0.00026\n",
       "2      2  0.00017\n",
       "3      3  0.00017\n",
       "4      4  0.00011\n",
       "..   ...      ...\n",
       "106  106  0.60085\n",
       "107  107  0.63202\n",
       "108  108  0.66214\n",
       "109  109  0.69099\n",
       "110  110  0.71843\n",
       "\n",
       "[111 rows x 2 columns]"
      ]
     },
     "execution_count": 10,
     "metadata": {},
     "output_type": "execute_result"
    }
   ],
   "source": [
    "tab_2021 = df[df['Year']==2021]\n",
    "tab_2021 = tab_2021[['Age','mx']]\n",
    "tab_2021=tab_2021.reset_index()\n",
    "del tab_2021['index']\n",
    "tab_2021"
   ]
  },
  {
   "cell_type": "markdown",
   "id": "823b6f38",
   "metadata": {},
   "source": [
    "## Define a function to calculate qx"
   ]
  },
  {
   "cell_type": "code",
   "execution_count": 11,
   "id": "190ac9c4",
   "metadata": {
    "ExecuteTime": {
     "end_time": "2024-02-07T21:37:09.826712Z",
     "start_time": "2024-02-07T21:37:09.820991Z"
    }
   },
   "outputs": [],
   "source": [
    "def calculate_qx(mx):\n",
    "    return 2 * mx / (2 + mx)"
   ]
  },
  {
   "cell_type": "code",
   "execution_count": 12,
   "id": "81b46d1e",
   "metadata": {
    "ExecuteTime": {
     "end_time": "2024-02-07T21:37:10.429539Z",
     "start_time": "2024-02-07T21:37:10.417093Z"
    }
   },
   "outputs": [
    {
     "data": {
      "text/html": [
       "<div>\n",
       "<style scoped>\n",
       "    .dataframe tbody tr th:only-of-type {\n",
       "        vertical-align: middle;\n",
       "    }\n",
       "\n",
       "    .dataframe tbody tr th {\n",
       "        vertical-align: top;\n",
       "    }\n",
       "\n",
       "    .dataframe thead th {\n",
       "        text-align: right;\n",
       "    }\n",
       "</style>\n",
       "<table border=\"1\" class=\"dataframe\">\n",
       "  <thead>\n",
       "    <tr style=\"text-align: right;\">\n",
       "      <th></th>\n",
       "      <th>Age</th>\n",
       "      <th>mx</th>\n",
       "      <th>qx</th>\n",
       "    </tr>\n",
       "  </thead>\n",
       "  <tbody>\n",
       "    <tr>\n",
       "      <th>0</th>\n",
       "      <td>0</td>\n",
       "      <td>0.00479</td>\n",
       "      <td>0.004779</td>\n",
       "    </tr>\n",
       "    <tr>\n",
       "      <th>1</th>\n",
       "      <td>1</td>\n",
       "      <td>0.00026</td>\n",
       "      <td>0.000260</td>\n",
       "    </tr>\n",
       "    <tr>\n",
       "      <th>2</th>\n",
       "      <td>2</td>\n",
       "      <td>0.00017</td>\n",
       "      <td>0.000170</td>\n",
       "    </tr>\n",
       "    <tr>\n",
       "      <th>3</th>\n",
       "      <td>3</td>\n",
       "      <td>0.00017</td>\n",
       "      <td>0.000170</td>\n",
       "    </tr>\n",
       "    <tr>\n",
       "      <th>4</th>\n",
       "      <td>4</td>\n",
       "      <td>0.00011</td>\n",
       "      <td>0.000110</td>\n",
       "    </tr>\n",
       "    <tr>\n",
       "      <th>...</th>\n",
       "      <td>...</td>\n",
       "      <td>...</td>\n",
       "      <td>...</td>\n",
       "    </tr>\n",
       "    <tr>\n",
       "      <th>106</th>\n",
       "      <td>106</td>\n",
       "      <td>0.60085</td>\n",
       "      <td>0.462041</td>\n",
       "    </tr>\n",
       "    <tr>\n",
       "      <th>107</th>\n",
       "      <td>107</td>\n",
       "      <td>0.63202</td>\n",
       "      <td>0.480255</td>\n",
       "    </tr>\n",
       "    <tr>\n",
       "      <th>108</th>\n",
       "      <td>108</td>\n",
       "      <td>0.66214</td>\n",
       "      <td>0.497449</td>\n",
       "    </tr>\n",
       "    <tr>\n",
       "      <th>109</th>\n",
       "      <td>109</td>\n",
       "      <td>0.69099</td>\n",
       "      <td>0.513558</td>\n",
       "    </tr>\n",
       "    <tr>\n",
       "      <th>110</th>\n",
       "      <td>110</td>\n",
       "      <td>0.71843</td>\n",
       "      <td>0.528562</td>\n",
       "    </tr>\n",
       "  </tbody>\n",
       "</table>\n",
       "<p>111 rows × 3 columns</p>\n",
       "</div>"
      ],
      "text/plain": [
       "     Age       mx        qx\n",
       "0      0  0.00479  0.004779\n",
       "1      1  0.00026  0.000260\n",
       "2      2  0.00017  0.000170\n",
       "3      3  0.00017  0.000170\n",
       "4      4  0.00011  0.000110\n",
       "..   ...      ...       ...\n",
       "106  106  0.60085  0.462041\n",
       "107  107  0.63202  0.480255\n",
       "108  108  0.66214  0.497449\n",
       "109  109  0.69099  0.513558\n",
       "110  110  0.71843  0.528562\n",
       "\n",
       "[111 rows x 3 columns]"
      ]
     },
     "execution_count": 12,
     "metadata": {},
     "output_type": "execute_result"
    }
   ],
   "source": [
    "tab_2021['qx'] = tab_2021['mx'].apply(calculate_qx)\n",
    "tab_2021"
   ]
  },
  {
   "cell_type": "markdown",
   "id": "4c491f93",
   "metadata": {
    "ExecuteTime": {
     "end_time": "2024-02-07T20:48:10.628525Z",
     "start_time": "2024-02-07T20:48:10.622659Z"
    }
   },
   "source": [
    "## Initialise lx"
   ]
  },
  {
   "cell_type": "code",
   "execution_count": 13,
   "id": "d3ba7a94",
   "metadata": {
    "ExecuteTime": {
     "end_time": "2024-02-07T21:37:39.233655Z",
     "start_time": "2024-02-07T21:37:39.228138Z"
    }
   },
   "outputs": [],
   "source": [
    "tab_2021['lx'] = [100000] + [None] * 110"
   ]
  },
  {
   "cell_type": "code",
   "execution_count": 14,
   "id": "b5a22921",
   "metadata": {
    "ExecuteTime": {
     "end_time": "2024-02-07T21:37:41.588715Z",
     "start_time": "2024-02-07T21:37:41.387531Z"
    }
   },
   "outputs": [
    {
     "ename": "NameError",
     "evalue": "name 'initial_survivors' is not defined",
     "output_type": "error",
     "traceback": [
      "\u001b[1;31m---------------------------------------------------------------------------\u001b[0m",
      "\u001b[1;31mNameError\u001b[0m                                 Traceback (most recent call last)",
      "Cell \u001b[1;32mIn[14], line 8\u001b[0m\n\u001b[0;32m      6\u001b[0m age \u001b[38;5;241m=\u001b[39m row[\u001b[38;5;124m'\u001b[39m\u001b[38;5;124mAge\u001b[39m\u001b[38;5;124m'\u001b[39m]\n\u001b[0;32m      7\u001b[0m \u001b[38;5;28;01mif\u001b[39;00m age \u001b[38;5;241m==\u001b[39m \u001b[38;5;241m0\u001b[39m:\n\u001b[1;32m----> 8\u001b[0m     lx \u001b[38;5;241m=\u001b[39m initial_survivors\n\u001b[0;32m      9\u001b[0m \u001b[38;5;28;01melse\u001b[39;00m:\n\u001b[0;32m     10\u001b[0m     \u001b[38;5;66;03m# Calculate lx for current age\u001b[39;00m\n\u001b[0;32m     11\u001b[0m     lx \u001b[38;5;241m=\u001b[39m result_df\u001b[38;5;241m.\u001b[39mloc[result_df[\u001b[38;5;124m'\u001b[39m\u001b[38;5;124mAge\u001b[39m\u001b[38;5;124m'\u001b[39m] \u001b[38;5;241m==\u001b[39m age \u001b[38;5;241m-\u001b[39m \u001b[38;5;241m1\u001b[39m, \u001b[38;5;124m'\u001b[39m\u001b[38;5;124mlx\u001b[39m\u001b[38;5;124m'\u001b[39m]\u001b[38;5;241m.\u001b[39mvalues[\u001b[38;5;241m0\u001b[39m] \u001b[38;5;241m-\u001b[39m result_df\u001b[38;5;241m.\u001b[39mloc[result_df[\u001b[38;5;124m'\u001b[39m\u001b[38;5;124mAge\u001b[39m\u001b[38;5;124m'\u001b[39m] \u001b[38;5;241m==\u001b[39m age \u001b[38;5;241m-\u001b[39m \u001b[38;5;241m1\u001b[39m, \u001b[38;5;124m'\u001b[39m\u001b[38;5;124mdx\u001b[39m\u001b[38;5;124m'\u001b[39m]\u001b[38;5;241m.\u001b[39mvalues[\u001b[38;5;241m0\u001b[39m]\n",
      "\u001b[1;31mNameError\u001b[0m: name 'initial_survivors' is not defined"
     ]
    }
   ],
   "source": [
    "# Initialize a new DataFrame to store the results\n",
    "result_df = pd.DataFrame(columns=['Age', 'lx', 'dx'])\n",
    "\n",
    "# Iterate through each row in the original DataFrame\n",
    "for index, row in tab_2021.iterrows():\n",
    "    age = row['Age']\n",
    "    if age == 0:\n",
    "        lx = initial_survivors\n",
    "    else:\n",
    "        # Calculate lx for current age\n",
    "        lx = result_df.loc[result_df['Age'] == age - 1, 'lx'].values[0] - result_df.loc[result_df['Age'] == age - 1, 'dx'].values[0]\n",
    "    qx = row['qx']\n",
    "    dx = lx * qx\n",
    "    \n",
    "    # Append the calculated values to the result DataFrame\n",
    "    result_df = result_df.append({'Age': age, 'lx': lx, 'dx': dx}, ignore_index=True)\n",
    "\n",
    "# Now, result_df DataFrame contains updated lx and dx values for all ages\n",
    "tab_2021['lx']=result_df['lx']\n",
    "tab_2021['dx']=result_df['dx']"
   ]
  },
  {
   "cell_type": "code",
   "execution_count": 15,
   "id": "49bb508a",
   "metadata": {
    "ExecuteTime": {
     "end_time": "2024-02-07T21:37:54.713375Z",
     "start_time": "2024-02-07T21:37:54.698583Z"
    }
   },
   "outputs": [
    {
     "data": {
      "text/html": [
       "<div>\n",
       "<style scoped>\n",
       "    .dataframe tbody tr th:only-of-type {\n",
       "        vertical-align: middle;\n",
       "    }\n",
       "\n",
       "    .dataframe tbody tr th {\n",
       "        vertical-align: top;\n",
       "    }\n",
       "\n",
       "    .dataframe thead th {\n",
       "        text-align: right;\n",
       "    }\n",
       "</style>\n",
       "<table border=\"1\" class=\"dataframe\">\n",
       "  <thead>\n",
       "    <tr style=\"text-align: right;\">\n",
       "      <th></th>\n",
       "      <th>Age</th>\n",
       "      <th>mx</th>\n",
       "      <th>qx</th>\n",
       "      <th>lx</th>\n",
       "    </tr>\n",
       "  </thead>\n",
       "  <tbody>\n",
       "    <tr>\n",
       "      <th>0</th>\n",
       "      <td>0</td>\n",
       "      <td>0.00479</td>\n",
       "      <td>0.004779</td>\n",
       "      <td>100000.0</td>\n",
       "    </tr>\n",
       "    <tr>\n",
       "      <th>1</th>\n",
       "      <td>1</td>\n",
       "      <td>0.00026</td>\n",
       "      <td>0.000260</td>\n",
       "      <td>NaN</td>\n",
       "    </tr>\n",
       "    <tr>\n",
       "      <th>2</th>\n",
       "      <td>2</td>\n",
       "      <td>0.00017</td>\n",
       "      <td>0.000170</td>\n",
       "      <td>NaN</td>\n",
       "    </tr>\n",
       "    <tr>\n",
       "      <th>3</th>\n",
       "      <td>3</td>\n",
       "      <td>0.00017</td>\n",
       "      <td>0.000170</td>\n",
       "      <td>NaN</td>\n",
       "    </tr>\n",
       "    <tr>\n",
       "      <th>4</th>\n",
       "      <td>4</td>\n",
       "      <td>0.00011</td>\n",
       "      <td>0.000110</td>\n",
       "      <td>NaN</td>\n",
       "    </tr>\n",
       "    <tr>\n",
       "      <th>...</th>\n",
       "      <td>...</td>\n",
       "      <td>...</td>\n",
       "      <td>...</td>\n",
       "      <td>...</td>\n",
       "    </tr>\n",
       "    <tr>\n",
       "      <th>106</th>\n",
       "      <td>106</td>\n",
       "      <td>0.60085</td>\n",
       "      <td>0.462041</td>\n",
       "      <td>NaN</td>\n",
       "    </tr>\n",
       "    <tr>\n",
       "      <th>107</th>\n",
       "      <td>107</td>\n",
       "      <td>0.63202</td>\n",
       "      <td>0.480255</td>\n",
       "      <td>NaN</td>\n",
       "    </tr>\n",
       "    <tr>\n",
       "      <th>108</th>\n",
       "      <td>108</td>\n",
       "      <td>0.66214</td>\n",
       "      <td>0.497449</td>\n",
       "      <td>NaN</td>\n",
       "    </tr>\n",
       "    <tr>\n",
       "      <th>109</th>\n",
       "      <td>109</td>\n",
       "      <td>0.69099</td>\n",
       "      <td>0.513558</td>\n",
       "      <td>NaN</td>\n",
       "    </tr>\n",
       "    <tr>\n",
       "      <th>110</th>\n",
       "      <td>110</td>\n",
       "      <td>0.71843</td>\n",
       "      <td>0.528562</td>\n",
       "      <td>NaN</td>\n",
       "    </tr>\n",
       "  </tbody>\n",
       "</table>\n",
       "<p>111 rows × 4 columns</p>\n",
       "</div>"
      ],
      "text/plain": [
       "     Age       mx        qx        lx\n",
       "0      0  0.00479  0.004779  100000.0\n",
       "1      1  0.00026  0.000260       NaN\n",
       "2      2  0.00017  0.000170       NaN\n",
       "3      3  0.00017  0.000170       NaN\n",
       "4      4  0.00011  0.000110       NaN\n",
       "..   ...      ...       ...       ...\n",
       "106  106  0.60085  0.462041       NaN\n",
       "107  107  0.63202  0.480255       NaN\n",
       "108  108  0.66214  0.497449       NaN\n",
       "109  109  0.69099  0.513558       NaN\n",
       "110  110  0.71843  0.528562       NaN\n",
       "\n",
       "[111 rows x 4 columns]"
      ]
     },
     "execution_count": 15,
     "metadata": {},
     "output_type": "execute_result"
    }
   ],
   "source": [
    "tab_2021"
   ]
  },
  {
   "cell_type": "markdown",
   "id": "d0cc0528",
   "metadata": {},
   "source": [
    "## Calcutale Lx"
   ]
  },
  {
   "cell_type": "code",
   "execution_count": 16,
   "id": "46d848a1",
   "metadata": {
    "ExecuteTime": {
     "end_time": "2024-02-07T21:38:53.663183Z",
     "start_time": "2024-02-07T21:38:53.620475Z"
    }
   },
   "outputs": [
    {
     "ename": "KeyError",
     "evalue": "'dx'",
     "output_type": "error",
     "traceback": [
      "\u001b[1;31m---------------------------------------------------------------------------\u001b[0m",
      "\u001b[1;31mKeyError\u001b[0m                                  Traceback (most recent call last)",
      "File \u001b[1;32m~\\anaconda3\\Lib\\site-packages\\pandas\\core\\indexes\\base.py:3802\u001b[0m, in \u001b[0;36mIndex.get_loc\u001b[1;34m(self, key, method, tolerance)\u001b[0m\n\u001b[0;32m   3801\u001b[0m \u001b[38;5;28;01mtry\u001b[39;00m:\n\u001b[1;32m-> 3802\u001b[0m     \u001b[38;5;28;01mreturn\u001b[39;00m \u001b[38;5;28mself\u001b[39m\u001b[38;5;241m.\u001b[39m_engine\u001b[38;5;241m.\u001b[39mget_loc(casted_key)\n\u001b[0;32m   3803\u001b[0m \u001b[38;5;28;01mexcept\u001b[39;00m \u001b[38;5;167;01mKeyError\u001b[39;00m \u001b[38;5;28;01mas\u001b[39;00m err:\n",
      "File \u001b[1;32m~\\anaconda3\\Lib\\site-packages\\pandas\\_libs\\index.pyx:138\u001b[0m, in \u001b[0;36mpandas._libs.index.IndexEngine.get_loc\u001b[1;34m()\u001b[0m\n",
      "File \u001b[1;32m~\\anaconda3\\Lib\\site-packages\\pandas\\_libs\\index.pyx:165\u001b[0m, in \u001b[0;36mpandas._libs.index.IndexEngine.get_loc\u001b[1;34m()\u001b[0m\n",
      "File \u001b[1;32mpandas\\_libs\\hashtable_class_helper.pxi:5745\u001b[0m, in \u001b[0;36mpandas._libs.hashtable.PyObjectHashTable.get_item\u001b[1;34m()\u001b[0m\n",
      "File \u001b[1;32mpandas\\_libs\\hashtable_class_helper.pxi:5753\u001b[0m, in \u001b[0;36mpandas._libs.hashtable.PyObjectHashTable.get_item\u001b[1;34m()\u001b[0m\n",
      "\u001b[1;31mKeyError\u001b[0m: 'dx'",
      "\nThe above exception was the direct cause of the following exception:\n",
      "\u001b[1;31mKeyError\u001b[0m                                  Traceback (most recent call last)",
      "Cell \u001b[1;32mIn[16], line 23\u001b[0m\n\u001b[0;32m     20\u001b[0m     \u001b[38;5;28;01mreturn\u001b[39;00m dataframe\n\u001b[0;32m     22\u001b[0m \u001b[38;5;66;03m# Assuming tab_2021 DataFrame is complete as provided\u001b[39;00m\n\u001b[1;32m---> 23\u001b[0m tab_2021 \u001b[38;5;241m=\u001b[39m calculate_Lx(tab_2021)\n",
      "Cell \u001b[1;32mIn[16], line 16\u001b[0m, in \u001b[0;36mcalculate_Lx\u001b[1;34m(dataframe)\u001b[0m\n\u001b[0;32m     14\u001b[0m \u001b[38;5;28;01melif\u001b[39;00m age \u001b[38;5;241m>\u001b[39m \u001b[38;5;241m0\u001b[39m:\n\u001b[0;32m     15\u001b[0m     previous_lx \u001b[38;5;241m=\u001b[39m dataframe\u001b[38;5;241m.\u001b[39mloc[dataframe[\u001b[38;5;124m'\u001b[39m\u001b[38;5;124mAge\u001b[39m\u001b[38;5;124m'\u001b[39m] \u001b[38;5;241m==\u001b[39m age \u001b[38;5;241m-\u001b[39m \u001b[38;5;241m1\u001b[39m, \u001b[38;5;124m'\u001b[39m\u001b[38;5;124mLx\u001b[39m\u001b[38;5;124m'\u001b[39m]\u001b[38;5;241m.\u001b[39mvalues[\u001b[38;5;241m0\u001b[39m]\n\u001b[1;32m---> 16\u001b[0m     dx \u001b[38;5;241m=\u001b[39m row[\u001b[38;5;124m'\u001b[39m\u001b[38;5;124mdx\u001b[39m\u001b[38;5;124m'\u001b[39m]\n\u001b[0;32m     17\u001b[0m     lx \u001b[38;5;241m=\u001b[39m previous_lx \u001b[38;5;241m-\u001b[39m dx\n\u001b[0;32m     18\u001b[0m     dataframe\u001b[38;5;241m.\u001b[39mat[index, \u001b[38;5;124m'\u001b[39m\u001b[38;5;124mLx\u001b[39m\u001b[38;5;124m'\u001b[39m] \u001b[38;5;241m=\u001b[39m lx\n",
      "File \u001b[1;32m~\\anaconda3\\Lib\\site-packages\\pandas\\core\\series.py:981\u001b[0m, in \u001b[0;36mSeries.__getitem__\u001b[1;34m(self, key)\u001b[0m\n\u001b[0;32m    978\u001b[0m     \u001b[38;5;28;01mreturn\u001b[39;00m \u001b[38;5;28mself\u001b[39m\u001b[38;5;241m.\u001b[39m_values[key]\n\u001b[0;32m    980\u001b[0m \u001b[38;5;28;01melif\u001b[39;00m key_is_scalar:\n\u001b[1;32m--> 981\u001b[0m     \u001b[38;5;28;01mreturn\u001b[39;00m \u001b[38;5;28mself\u001b[39m\u001b[38;5;241m.\u001b[39m_get_value(key)\n\u001b[0;32m    983\u001b[0m \u001b[38;5;28;01mif\u001b[39;00m is_hashable(key):\n\u001b[0;32m    984\u001b[0m     \u001b[38;5;66;03m# Otherwise index.get_value will raise InvalidIndexError\u001b[39;00m\n\u001b[0;32m    985\u001b[0m     \u001b[38;5;28;01mtry\u001b[39;00m:\n\u001b[0;32m    986\u001b[0m         \u001b[38;5;66;03m# For labels that don't resolve as scalars like tuples and frozensets\u001b[39;00m\n",
      "File \u001b[1;32m~\\anaconda3\\Lib\\site-packages\\pandas\\core\\series.py:1089\u001b[0m, in \u001b[0;36mSeries._get_value\u001b[1;34m(self, label, takeable)\u001b[0m\n\u001b[0;32m   1086\u001b[0m     \u001b[38;5;28;01mreturn\u001b[39;00m \u001b[38;5;28mself\u001b[39m\u001b[38;5;241m.\u001b[39m_values[label]\n\u001b[0;32m   1088\u001b[0m \u001b[38;5;66;03m# Similar to Index.get_value, but we do not fall back to positional\u001b[39;00m\n\u001b[1;32m-> 1089\u001b[0m loc \u001b[38;5;241m=\u001b[39m \u001b[38;5;28mself\u001b[39m\u001b[38;5;241m.\u001b[39mindex\u001b[38;5;241m.\u001b[39mget_loc(label)\n\u001b[0;32m   1090\u001b[0m \u001b[38;5;28;01mreturn\u001b[39;00m \u001b[38;5;28mself\u001b[39m\u001b[38;5;241m.\u001b[39mindex\u001b[38;5;241m.\u001b[39m_get_values_for_loc(\u001b[38;5;28mself\u001b[39m, loc, label)\n",
      "File \u001b[1;32m~\\anaconda3\\Lib\\site-packages\\pandas\\core\\indexes\\base.py:3804\u001b[0m, in \u001b[0;36mIndex.get_loc\u001b[1;34m(self, key, method, tolerance)\u001b[0m\n\u001b[0;32m   3802\u001b[0m     \u001b[38;5;28;01mreturn\u001b[39;00m \u001b[38;5;28mself\u001b[39m\u001b[38;5;241m.\u001b[39m_engine\u001b[38;5;241m.\u001b[39mget_loc(casted_key)\n\u001b[0;32m   3803\u001b[0m \u001b[38;5;28;01mexcept\u001b[39;00m \u001b[38;5;167;01mKeyError\u001b[39;00m \u001b[38;5;28;01mas\u001b[39;00m err:\n\u001b[1;32m-> 3804\u001b[0m     \u001b[38;5;28;01mraise\u001b[39;00m \u001b[38;5;167;01mKeyError\u001b[39;00m(key) \u001b[38;5;28;01mfrom\u001b[39;00m \u001b[38;5;21;01merr\u001b[39;00m\n\u001b[0;32m   3805\u001b[0m \u001b[38;5;28;01mexcept\u001b[39;00m \u001b[38;5;167;01mTypeError\u001b[39;00m:\n\u001b[0;32m   3806\u001b[0m     \u001b[38;5;66;03m# If we have a listlike key, _check_indexing_error will raise\u001b[39;00m\n\u001b[0;32m   3807\u001b[0m     \u001b[38;5;66;03m#  InvalidIndexError. Otherwise we fall through and re-raise\u001b[39;00m\n\u001b[0;32m   3808\u001b[0m     \u001b[38;5;66;03m#  the TypeError.\u001b[39;00m\n\u001b[0;32m   3809\u001b[0m     \u001b[38;5;28mself\u001b[39m\u001b[38;5;241m.\u001b[39m_check_indexing_error(key)\n",
      "\u001b[1;31mKeyError\u001b[0m: 'dx'"
     ]
    }
   ],
   "source": [
    "import pandas as pd\n",
    "\n",
    "def calculate_Lx(dataframe):\n",
    "    # Ensure DataFrame is sorted by Age\n",
    "    dataframe = dataframe.sort_values(by='Age')\n",
    "\n",
    "    # Calculate Lx for each age\n",
    "    for index, row in dataframe.iterrows():\n",
    "        age = row['Age']\n",
    "        if age == 0:\n",
    "            # Set Lx at age 0 as the average of Lx at age 0 and age 1\n",
    "            lx_at_age_0 = (dataframe.loc[dataframe['Age'] == 0, 'lx'].values[0] + dataframe.loc[dataframe['Age'] == 1, 'lx'].values[0]) / 2\n",
    "            dataframe.at[index, 'Lx'] = lx_at_age_0\n",
    "        elif age > 0:\n",
    "            previous_lx = dataframe.loc[dataframe['Age'] == age - 1, 'Lx'].values[0]\n",
    "            dx = row['dx']\n",
    "            lx = previous_lx - dx\n",
    "            dataframe.at[index, 'Lx'] = lx\n",
    "\n",
    "    return dataframe\n",
    "\n",
    "# Assuming tab_2021 DataFrame is complete as provided\n",
    "tab_2021 = calculate_Lx(tab_2021)"
   ]
  },
  {
   "cell_type": "code",
   "execution_count": null,
   "id": "2d9a9777",
   "metadata": {
    "ExecuteTime": {
     "end_time": "2024-02-07T21:39:14.187713Z",
     "start_time": "2024-02-07T21:39:14.170842Z"
    }
   },
   "outputs": [],
   "source": [
    "tab_2021"
   ]
  },
  {
   "cell_type": "markdown",
   "id": "85dcad43",
   "metadata": {
    "ExecuteTime": {
     "end_time": "2024-02-07T21:40:40.699092Z",
     "start_time": "2024-02-07T21:40:40.696437Z"
    }
   },
   "source": [
    "## Calculate Tx"
   ]
  },
  {
   "cell_type": "code",
   "execution_count": null,
   "id": "c42ddc69",
   "metadata": {
    "ExecuteTime": {
     "end_time": "2024-02-07T21:42:25.507171Z",
     "start_time": "2024-02-07T21:42:25.500026Z"
    }
   },
   "outputs": [],
   "source": [
    "def calculate_Tx(dataframe):\n",
    "    # Calculate the total number of person-years lived (Tx) at each age (sum of Lx and subsequent Lx+1, Lx+2, ...)\n",
    "    dataframe['Tx'] = dataframe['Lx'][::-1].cumsum()[::-1]  # Cumulative sum in reverse order\n",
    "    return dataframe\n",
    "\n",
    "# Example usage:\n",
    "# Assuming tab_2021 DataFrame is complete as provided\n",
    "tab_2021 = tab_2021.sort_values(by='Age')  # Ensure DataFrame is sorted by Age\n",
    "\n",
    "# Calculate Tx for all ages\n",
    "tab_2021 = calculate_Tx(tab_2021)"
   ]
  },
  {
   "cell_type": "code",
   "execution_count": null,
   "id": "45cf5f7e",
   "metadata": {
    "ExecuteTime": {
     "end_time": "2024-02-07T21:42:26.656870Z",
     "start_time": "2024-02-07T21:42:26.636470Z"
    }
   },
   "outputs": [],
   "source": [
    "tab_2021"
   ]
  },
  {
   "cell_type": "markdown",
   "id": "34670948",
   "metadata": {},
   "source": [
    "## Calculate the Life expectancy"
   ]
  },
  {
   "cell_type": "code",
   "execution_count": null,
   "id": "1a47fe50",
   "metadata": {
    "ExecuteTime": {
     "end_time": "2024-02-07T21:43:02.453675Z",
     "start_time": "2024-02-07T21:43:02.445078Z"
    }
   },
   "outputs": [],
   "source": [
    "def calculate_life_expectancy(dataframe):\n",
    "    # Calculate the life expectancy (ex) at each age (Tx / Lx)\n",
    "    dataframe['ex'] = dataframe['Tx'] / dataframe['Lx']\n",
    "    return dataframe\n",
    "\n",
    "# Example usage:\n",
    "# Assuming tab_2021 DataFrame is complete as provided\n",
    "tab_2021 = tab_2021.sort_values(by='Age')  # Ensure DataFrame is sorted by Age\n",
    "\n",
    "# Calculate life expectancy (ex) for all ages\n",
    "tab_2021 = calculate_life_expectancy(tab_2021)"
   ]
  },
  {
   "cell_type": "code",
   "execution_count": null,
   "id": "7afd65aa",
   "metadata": {
    "ExecuteTime": {
     "end_time": "2024-02-07T21:43:03.730080Z",
     "start_time": "2024-02-07T21:43:03.708436Z"
    }
   },
   "outputs": [],
   "source": [
    "tab_2021"
   ]
  },
  {
   "cell_type": "markdown",
   "id": "1c85b6c5",
   "metadata": {},
   "source": [
    "## Get life expectancy at a given age"
   ]
  },
  {
   "cell_type": "code",
   "execution_count": null,
   "id": "a2a5606f",
   "metadata": {
    "ExecuteTime": {
     "end_time": "2024-02-07T21:44:14.497085Z",
     "start_time": "2024-02-07T21:44:14.485306Z"
    }
   },
   "outputs": [],
   "source": [
    "def get_life_expectancy_for_age(dataframe, age):\n",
    "    # Filter the DataFrame for the given age\n",
    "    age_row = dataframe[dataframe['Age'] == age]\n",
    "    \n",
    "    # Check if the age exists in the DataFrame\n",
    "    if not age_row.empty:\n",
    "        # Extract the life expectancy (ex) value for the given age\n",
    "        life_expectancy = age_row['ex'].values[0]\n",
    "        return life_expectancy\n",
    "    else:\n",
    "        print(f\"No data found for age {age}\")\n",
    "        return None"
   ]
  },
  {
   "cell_type": "code",
   "execution_count": null,
   "id": "f95dca71",
   "metadata": {
    "ExecuteTime": {
     "end_time": "2024-02-07T21:45:30.249565Z",
     "start_time": "2024-02-07T21:45:30.245305Z"
    }
   },
   "outputs": [],
   "source": [
    "# Example usage:\n",
    "# Assuming tab_2021 DataFrame is complete as provided\n",
    "# Assuming you want to get the life expectancy for age 65\n",
    "life_expectancy_age_65 = get_life_expectancy_for_age(tab_2021, 65)\n",
    "if life_expectancy_age_30 is not None:\n",
    "    print(f\"Life expectancy at age 65: {life_expectancy_age_30}\")"
   ]
  },
  {
   "cell_type": "markdown",
   "id": "63729fab",
   "metadata": {},
   "source": [
    "## Get Survival function ?"
   ]
  },
  {
   "cell_type": "code",
   "execution_count": null,
   "id": "ca442dcc",
   "metadata": {},
   "outputs": [],
   "source": []
  }
 ],
 "metadata": {
  "kernelspec": {
   "display_name": "Python 3 (ipykernel)",
   "language": "python",
   "name": "python3"
  },
  "language_info": {
   "codemirror_mode": {
    "name": "ipython",
    "version": 3
   },
   "file_extension": ".py",
   "mimetype": "text/x-python",
   "name": "python",
   "nbconvert_exporter": "python",
   "pygments_lexer": "ipython3",
   "version": "3.11.3"
  }
 },
 "nbformat": 4,
 "nbformat_minor": 5
}
