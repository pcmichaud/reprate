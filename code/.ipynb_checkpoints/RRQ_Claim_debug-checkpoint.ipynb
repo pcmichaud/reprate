{
 "cells": [
  {
   "cell_type": "code",
   "execution_count": 1,
   "id": "c5c45db8-1a2f-47f5-8967-b97a9cb4d33e",
   "metadata": {},
   "outputs": [],
   "source": [
    "def present_value_lifetime_annuity(payment_per_period, annual_interest_rate, life_expectancy_years):\n",
    "    \"\"\"\n",
    "    Calculate the present value of a lifetime annuity with monthly payments.\n",
    "\n",
    "    Parameters:\n",
    "    payment_per_period (float): Payment amount per period (e.g., per month).\n",
    "    annual_interest_rate (float): Annual interest rate (as a decimal).\n",
    "    life_expectancy_years (int): Life expectancy in years.\n",
    "\n",
    "    Returns:\n",
    "    float: Present value of the lifetime annuity.\n",
    "    \"\"\"\n",
    "    monthly_interest_rate = annual_interest_rate / 12  # Convert annual interest rate to monthly\n",
    "    total_periods = life_expectancy_years * 12  # Convert life expectancy to months\n",
    "\n",
    "    if monthly_interest_rate == 0:\n",
    "        present_value = payment_per_period * total_periods\n",
    "    else:\n",
    "        present_value = payment_per_period / monthly_interest_rate * (1 - (1 / (1 + monthly_interest_rate) ** total_periods))\n",
    "    return present_value"
   ]
  },
  {
   "cell_type": "code",
   "execution_count": 2,
   "id": "9c9d701e-e01d-4c17-a4f4-267822e0202b",
   "metadata": {},
   "outputs": [],
   "source": [
    "def present_value(amount_received, annual_interest_rate, age_received, present_age):\n",
    "    \"\"\"\n",
    "    Calculate the present value of an amount received in the future at a specified age.\n",
    "\n",
    "    Parameters:\n",
    "    amount_received (float): Amount received in the future.\n",
    "    annual_interest_rate (float): Annual interest rate (as a decimal).\n",
    "    age_received (int): Age at which the amount is received.\n",
    "    present_age (int): Current age.\n",
    "\n",
    "    Returns:\n",
    "    float: Present value of the amount received at the specified age.\n",
    "    \"\"\"\n",
    "    monthly_interest_rate = annual_interest_rate / 12  # Convert annual interest rate to monthly\n",
    "    years_until_received = age_received - present_age  # Calculate years until amount is received\n",
    "\n",
    "    present_value = amount_received / (1 + monthly_interest_rate) ** (years_until_received * 12)\n",
    "\n",
    "    return present_value"
   ]
  },
  {
   "cell_type": "code",
   "execution_count": 3,
   "id": "e67daa83-94aa-41d6-ac22-70ab528c3f5b",
   "metadata": {},
   "outputs": [],
   "source": [
    "def calculate_reduced_benefit(original_benefit, retirement_age, reduction_rate):\n",
    "    if retirement_age >= 65:\n",
    "        return original_benefit  # No reduction if retirement age is 65 or older\n",
    "    else:\n",
    "        reduction_percent = (65 - retirement_age) * reduction_rate * 12  # Annual reduction rate\n",
    "        reduced_benefit = original_benefit * (1 - reduction_percent / 100)\n",
    "        return reduced_benefit"
   ]
  },
  {
   "cell_type": "code",
   "execution_count": 4,
   "id": "c4588482-e603-42c2-ac66-0dd0f7d61def",
   "metadata": {},
   "outputs": [],
   "source": [
    "def present_value_lifetime_annuity_at_age(payment_per_period, annual_interest_rate, life_expectancy_years, age_received, present_age):\n",
    "    \"\"\"\n",
    "    Calculate the present value at a specified age of a lifetime annuity starting at age 65.\n",
    "\n",
    "    Parameters:\n",
    "    payment_per_period (float): Payment amount per period (e.g., per month).\n",
    "    annual_interest_rate (float): Annual interest rate (as a decimal).\n",
    "    life_expectancy_years (int): Life expectancy in years.\n",
    "    age_received (int): Age at which the amount is received (typically 65).\n",
    "    present_age (int): Current age (age at which present value is calculated).\n",
    "\n",
    "    Returns:\n",
    "    float: Present value of the received amount at the specified age.\n",
    "    \"\"\"\n",
    "    # Calculate amount received from present_value_lifetime_annuity\n",
    "    amount_received = present_value_lifetime_annuity(payment_per_period, annual_interest_rate, life_expectancy_years)\n",
    "\n",
    "    # Calculate present value at specified age using present_value\n",
    "    present_value_at_age = present_value(amount_received, annual_interest_rate, age_received, present_age)\n",
    "\n",
    "    return present_value_at_age"
   ]
  },
  {
   "cell_type": "code",
   "execution_count": 18,
   "id": "43702a15-2eb2-4601-a139-ee6784d161e2",
   "metadata": {},
   "outputs": [],
   "source": [
    "def compare_present_value_at_ages(payment_per_period_age2, annual_interest_rate, life_expectancy_years_age1, life_expectancy_years_age2, age1, age2, present_age):\n",
    "    \"\"\"\n",
    "    Compare the present values at two different ages of a lifetime annuity starting at age 65,\n",
    "    where the payment per period at age 1 is a function of the payment per period at age 2 with reduction.\n",
    "\n",
    "    Parameters:\n",
    "    payment_per_period_age2 (float): Payment amount per period at age 2 (e.g., per month).\n",
    "    annual_interest_rate (float): Annual interest rate (as a decimal).\n",
    "    life_expectancy_years_age1 (int): Life expectancy in years at age 1.\n",
    "    life_expectancy_years_age2 (int): Life expectancy in years at age 2.\n",
    "    age1 (int): First age to compare (e.g., 60).\n",
    "    age2 (int): Second age to compare (e.g., 65).\n",
    "    present_age (int): Current age (age at which present value is calculated).\n",
    "\n",
    "    Returns:\n",
    "    tuple: A tuple containing the present values at age1 and age2 respectively.\n",
    "    \"\"\"\n",
    "    # Calculate reduced benefit at age 1 using calculate_reduced_benefit\n",
    "    reduction_rate = 0.6  # Monthly reduction rate (0.6% per month)\n",
    "    reduced_payment_per_period_age1 = calculate_reduced_benefit(payment_per_period_age2, age1, reduction_rate)\n",
    "\n",
    "    # Calculate present value at age 1\n",
    "    present_value_at_age1 = present_value_lifetime_annuity_at_age(reduced_payment_per_period_age1, annual_interest_rate, life_expectancy_years_age1, age1, present_age)\n",
    "\n",
    "    # Calculate present value at age 2\n",
    "    present_value_at_age2 = present_value_lifetime_annuity_at_age(payment_per_period_age2, annual_interest_rate, life_expectancy_years_age2, age2, present_age)\n",
    "\n",
    "    return present_value_at_age1, present_value_at_age2"
   ]
  },
  {
   "cell_type": "code",
   "execution_count": 19,
   "id": "08b2aa5c-af1f-4a4b-9ac5-c9886015a3ac",
   "metadata": {},
   "outputs": [
    {
     "name": "stdout",
     "output_type": "stream",
     "text": [
      "Present value at age 1: 112467.44178132308\n",
      "Present value at age 2: 129353.41304431383\n"
     ]
    }
   ],
   "source": [
    "# Example usage:\n",
    "payment_per_period_age2 = 10000/12  # Payment amount per period at age 2 (e.g., per month)\n",
    "annual_interest_rate = 0.03  # Annual interest rate (as a decimal)\n",
    "life_expectancy_years_age1 = 25  # Life expectancy in years at age 1\n",
    "life_expectancy_years_age2 = 20  # Life expectancy in years at age 2\n",
    "age1 = 60  # First age to compare (e.g., 60)\n",
    "age2 = 65  # Second age to compare (e.g., 65)\n",
    "present_age = 60  # Current age (age at which present value is calculated)\n",
    "\n",
    "present_value_at_age1, present_value_at_age2 = compare_present_value_at_ages(payment_per_period_age2, annual_interest_rate, life_expectancy_years_age1, life_expectancy_years_age2, age1, age2, present_age)\n",
    "\n",
    "print(\"Present value at age 1:\", present_value_at_age1)\n",
    "print(\"Present value at age 2:\", present_value_at_age2)"
   ]
  },
  {
   "cell_type": "code",
   "execution_count": null,
   "id": "749d9bc6-73de-4760-9fc2-2b3618b11333",
   "metadata": {},
   "outputs": [],
   "source": []
  }
 ],
 "metadata": {
  "kernelspec": {
   "display_name": "Python 3 (ipykernel)",
   "language": "python",
   "name": "python3"
  },
  "language_info": {
   "codemirror_mode": {
    "name": "ipython",
    "version": 3
   },
   "file_extension": ".py",
   "mimetype": "text/x-python",
   "name": "python",
   "nbconvert_exporter": "python",
   "pygments_lexer": "ipython3",
   "version": "3.7.13"
  }
 },
 "nbformat": 4,
 "nbformat_minor": 5
}
