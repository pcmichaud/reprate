{
 "cells": [
  {
   "cell_type": "markdown",
   "id": "2d604ddb",
   "metadata": {},
   "source": [
    "# Function to calculate the present value of a lifetime annuity"
   ]
  },
  {
   "cell_type": "markdown",
   "id": "4b571c51",
   "metadata": {
    "ExecuteTime": {
     "end_time": "2024-01-31T19:56:43.611043Z",
     "start_time": "2024-01-31T19:56:43.602939Z"
    }
   },
   "source": [
    "## If we assume that the payment is made monthly, we need to adjust the discount rate accordingly. The discount rate needs to be expressed on a monthly basis to match the frequency of payments:"
   ]
  },
  {
   "cell_type": "markdown",
   "id": "a3566b80",
   "metadata": {
    "ExecuteTime": {
     "end_time": "2024-02-27T15:38:45.694590Z",
     "start_time": "2024-02-27T15:38:45.687835Z"
    }
   },
   "source": [
    "$PVLA=PMT\\frac{1}{r}(1-(1+r)^{-t})$\n",
    "\n",
    "where: \n",
    "\n",
    "$t$ = number of month\n",
    "\n",
    "$r$ = montly interest rate"
   ]
  },
  {
   "cell_type": "code",
   "execution_count": 14,
   "id": "e1ea41a4",
   "metadata": {
    "ExecuteTime": {
     "end_time": "2024-03-01T18:15:05.611875Z",
     "start_time": "2024-03-01T18:15:05.599245Z"
    }
   },
   "outputs": [],
   "source": [
    "def present_value_lifetime_annuity(payment_per_period, annual_interest_rate, life_expectancy_years):\n",
    "    \"\"\"\n",
    "    Calculate the present value of a lifetime annuity with monthly payments.\n",
    "\n",
    "    Parameters:\n",
    "    payment_per_period (float): Payment amount per period (e.g., per month).\n",
    "    annual_interest_rate (float): Annual interest rate (as a decimal).\n",
    "    life_expectancy_years (int): Life expectancy in years.\n",
    "\n",
    "    Returns:\n",
    "    float: Present value of the lifetime annuity.\n",
    "    \"\"\"\n",
    "    monthly_interest_rate = annual_interest_rate / 12  # Convert annual interest rate to monthly\n",
    "    total_periods = life_expectancy_years * 12  # Convert life expectancy to months\n",
    "\n",
    "    if monthly_interest_rate == 0:\n",
    "        present_value = payment_per_period * total_periods\n",
    "    else:\n",
    "        present_value = payment_per_period / monthly_interest_rate * (1 - (1 / (1 + monthly_interest_rate) ** total_periods))\n",
    "    return present_value"
   ]
  },
  {
   "cell_type": "code",
   "execution_count": 2,
   "id": "6c0e9b7d",
   "metadata": {
    "ExecuteTime": {
     "end_time": "2024-03-01T18:15:05.621863Z",
     "start_time": "2024-03-01T18:15:05.615837Z"
    }
   },
   "outputs": [
    {
     "name": "stdout",
     "output_type": "stream",
     "text": [
      "Present Value of Lifetime Annuity (Monthly Payments): 150,259.10$\n"
     ]
    }
   ],
   "source": [
    "# Example usage:\n",
    "payment_per_month = 10000/12  # Payment per month\n",
    "annual_interest_rate = 0.03  # Annual interest rate (5%)\n",
    "life_expectancy_years = 20  # Life expectancy in years\n",
    "present_value = present_value_lifetime_annuity(payment_per_month, annual_interest_rate, life_expectancy_years)\n",
    "print(\"Present Value of Lifetime Annuity (Monthly Payments): {:,.2f}$\".format(present_value))"
   ]
  },
  {
   "cell_type": "markdown",
   "id": "e9d7f0c1",
   "metadata": {},
   "source": [
    "## The function you provided calculates the present value of an amount received in the future at a specified age, taking into account the annual interest rate and the difference in age between when the amount is received and the current age."
   ]
  },
  {
   "cell_type": "markdown",
   "id": "4188b052",
   "metadata": {},
   "source": [
    "$\\text{PV} = \\frac{\\text{PMT}}{(1 + \\text{r})^{t}}$\n",
    "\n",
    "where: \n",
    "\n",
    "$t$ = number of month\n",
    "\n",
    "$r$ = montly interest rate"
   ]
  },
  {
   "cell_type": "code",
   "execution_count": 3,
   "id": "f74bf230",
   "metadata": {
    "ExecuteTime": {
     "end_time": "2024-03-01T18:15:05.630666Z",
     "start_time": "2024-03-01T18:15:05.624984Z"
    }
   },
   "outputs": [],
   "source": [
    "def present_value(amount_received, annual_interest_rate, age_received, present_age):\n",
    "    \"\"\"\n",
    "    Calculate the present value of an amount received in the future at a specified age.\n",
    "\n",
    "    Parameters:\n",
    "    amount_received (float): Amount received in the future.\n",
    "    annual_interest_rate (float): Annual interest rate (as a decimal).\n",
    "    age_received (int): Age at which the amount is received.\n",
    "    present_age (int): Current age.\n",
    "\n",
    "    Returns:\n",
    "    float: Present value of the amount received at the specified age.\n",
    "    \"\"\"\n",
    "    monthly_interest_rate = annual_interest_rate / 12  # Convert annual interest rate to monthly\n",
    "    years_until_received = age_received - present_age  # Calculate years until amount is received\n",
    "\n",
    "    present_value = amount_received / (1 + monthly_interest_rate) ** (years_until_received * 12)\n",
    "\n",
    "    return present_value"
   ]
  },
  {
   "cell_type": "code",
   "execution_count": 4,
   "id": "55f3026c",
   "metadata": {
    "ExecuteTime": {
     "end_time": "2024-03-01T18:15:05.638951Z",
     "start_time": "2024-03-01T18:15:05.633932Z"
    }
   },
   "outputs": [
    {
     "name": "stdout",
     "output_type": "stream",
     "text": [
      "Present value at age 60: 129,353.42$\n"
     ]
    }
   ],
   "source": [
    "# Example usage:\n",
    "amount_received = 150259.10  # Amount received in the future\n",
    "annual_interest_rate = 0.03  # Annual interest rate\n",
    "age_received = 65  # Age at which the amount is received\n",
    "present_age = 60  # Current age\n",
    "\n",
    "pv_at_60 = present_value(amount_received, annual_interest_rate, age_received, present_age)\n",
    "print(\"Present value at age 60: {:,.2f}$\".format(pv_at_60))"
   ]
  },
  {
   "cell_type": "markdown",
   "id": "ff1778ec",
   "metadata": {
    "ExecuteTime": {
     "end_time": "2024-02-07T16:07:43.448059Z",
     "start_time": "2024-02-07T16:07:43.428221Z"
    }
   },
   "source": [
    "## When retirement benefits begin before age 65, the benefit amount is reduced by 0.6% for each month between the beginning of the payments and the 65th birthday. Accordingly, a pensioner who is entitled to the maximum benefit will have the benefit amount reduced by 36% if he or she decides to retire at 60 years of age."
   ]
  },
  {
   "cell_type": "code",
   "execution_count": 19,
   "id": "16d967d0",
   "metadata": {
    "ExecuteTime": {
     "end_time": "2024-03-01T18:15:05.649813Z",
     "start_time": "2024-03-01T18:15:05.645208Z"
    }
   },
   "outputs": [],
   "source": [
    "def calculate_reduced_benefit(original_benefit, retirement_age, reduction_rate=0.6):\n",
    "    if retirement_age >= 65:\n",
    "        return original_benefit  # No reduction if retirement age is 65 or older\n",
    "    else:\n",
    "        reduction_percent = (65 - retirement_age) * reduction_rate * 12  # Annual reduction rate\n",
    "        reduced_benefit = original_benefit * (1 - reduction_percent / 100)\n",
    "        return reduced_benefit"
   ]
  },
  {
   "cell_type": "code",
   "execution_count": 20,
   "id": "23c357c3",
   "metadata": {
    "ExecuteTime": {
     "end_time": "2024-03-01T18:15:05.657833Z",
     "start_time": "2024-03-01T18:15:05.652904Z"
    }
   },
   "outputs": [
    {
     "name": "stdout",
     "output_type": "stream",
     "text": [
      "Reduced retirement benefit amount: 64.0\n"
     ]
    }
   ],
   "source": [
    "# Example usage:\n",
    "original_benefit = 100  # Assuming the original benefit amount is $1000\n",
    "retirement_age = 60  # Age at which retirement benefits begin\n",
    "reduction_rate = 0.6  # Monthly reduction rate (0.6%)\n",
    "reduced_amount = calculate_reduced_benefit(original_benefit, retirement_age, reduction_rate)\n",
    "print(\"Reduced retirement benefit amount:\", reduced_amount)"
   ]
  },
  {
   "cell_type": "code",
   "execution_count": 21,
   "id": "c94e8250",
   "metadata": {
    "ExecuteTime": {
     "end_time": "2024-03-01T18:15:05.666178Z",
     "start_time": "2024-03-01T18:15:05.661313Z"
    }
   },
   "outputs": [],
   "source": [
    "def present_value_lifetime_annuity_at_age(payment_per_period, annual_interest_rate, life_expectancy_years, age_received, present_age):\n",
    "    \"\"\"\n",
    "    Calculate the present value at a specified age of a lifetime annuity starting at age 65.\n",
    "\n",
    "    Parameters:\n",
    "    payment_per_period (float): Payment amount per period (e.g., per month).\n",
    "    annual_interest_rate (float): Annual interest rate (as a decimal).\n",
    "    life_expectancy_years (int): Life expectancy in years.\n",
    "    age_received (int): Age at which the amount is received (typically 65).\n",
    "    present_age (int): Current age (age at which present value is calculated).\n",
    "\n",
    "    Returns:\n",
    "    float: Present value of the received amount at the specified age.\n",
    "    \"\"\"\n",
    "    # Calculate amount received from present_value_lifetime_annuity\n",
    "    amount_received = present_value_lifetime_annuity(payment_per_period, annual_interest_rate, life_expectancy_years)\n",
    "\n",
    "    # Calculate present value at specified age using present_value\n",
    "    present_value_at_age = present_value(amount_received, annual_interest_rate, age_received, present_age)\n",
    "\n",
    "    return present_value_at_age"
   ]
  },
  {
   "cell_type": "code",
   "execution_count": 22,
   "id": "83a0eca7",
   "metadata": {
    "ExecuteTime": {
     "end_time": "2024-03-01T18:15:05.675514Z",
     "start_time": "2024-03-01T18:15:05.669450Z"
    }
   },
   "outputs": [
    {
     "name": "stdout",
     "output_type": "stream",
     "text": [
      "Present value at age 60 of the received amount:129,353.41$\n"
     ]
    }
   ],
   "source": [
    "# Example usage:\n",
    "payment_per_period = 10000/12  # Payment amount per period (e.g., per month)\n",
    "annual_interest_rate = 0.03  # Annual interest rate (as a decimal)\n",
    "life_expectancy_years = 20 # Life expectancy in years\n",
    "age_received = 65  # Age at which the amount is received\n",
    "present_age = 60  # Current age (age at which present value is calculated)\n",
    "\n",
    "present_value_at_age = present_value_lifetime_annuity_at_age(payment_per_period, annual_interest_rate, life_expectancy_years, age_received, present_age)\n",
    "print(\"Present value at age 60 of the received amount:{:,.2f}$\".format(present_value_at_age))"
   ]
  },
  {
   "cell_type": "code",
   "execution_count": 23,
   "id": "422b3020",
   "metadata": {
    "ExecuteTime": {
     "end_time": "2024-03-01T18:15:05.683769Z",
     "start_time": "2024-03-01T18:15:05.679397Z"
    }
   },
   "outputs": [],
   "source": [
    "retirement_age = 60  # Age at which retirement benefits begin\n",
    "reduction_rate = 0.6  # Monthly reduction rate (0.6%)\n",
    "pmt=calculate_reduced_benefit(10000/12, retirement_age, reduction_rate)"
   ]
  },
  {
   "cell_type": "code",
   "execution_count": 24,
   "id": "38b7ca20",
   "metadata": {
    "ExecuteTime": {
     "end_time": "2024-03-01T18:15:05.692579Z",
     "start_time": "2024-03-01T18:15:05.686888Z"
    }
   },
   "outputs": [
    {
     "name": "stdout",
     "output_type": "stream",
     "text": [
      "Present value at age 60 of the received amount:112,467.44$\n"
     ]
    }
   ],
   "source": [
    "# Example usage:\n",
    "payment_per_period = pmt  # Payment amount per period (e.g., per month)\n",
    "annual_interest_rate = 0.03  # Annual interest rate (as a decimal)\n",
    "life_expectancy_years = 25 # Life expectancy in years\n",
    "age_received = 60  # Age at which the amount is received\n",
    "present_age = 60  # Current age (age at which present value is calculated)\n",
    "\n",
    "present_value_at_age = present_value_lifetime_annuity_at_age(payment_per_period, annual_interest_rate, life_expectancy_years, age_received, present_age)\n",
    "print(\"Present value at age 60 of the received amount:{:,.2f}$\".format(present_value_at_age))"
   ]
  },
  {
   "cell_type": "code",
   "execution_count": 25,
   "id": "d7bd7fdb",
   "metadata": {
    "ExecuteTime": {
     "end_time": "2024-03-01T18:15:05.701698Z",
     "start_time": "2024-03-01T18:15:05.696085Z"
    }
   },
   "outputs": [
    {
     "name": "stdout",
     "output_type": "stream",
     "text": [
      "Present value at age 60 of the received amount:112,467.44$\n"
     ]
    }
   ],
   "source": [
    "# Example usage:\n",
    "retirement_age = 60  # Age at which retirement benefits begin\n",
    "reduction_rate = 0.6  # Monthly reduction rate (0.6%)\n",
    "pmt=calculate_reduced_benefit(10000/12, retirement_age, reduction_rate)\n",
    "payment_per_period = pmt  # Payment amount per period (e.g., per month)\n",
    "annual_interest_rate = 0.03  # Annual interest rate (as a decimal)\n",
    "life_expectancy_years = 25 # Life expectancy in years\n",
    "age_received = 60  # Age at which the amount is received\n",
    "present_age = 60  # Current age (age at which present value is calculated)\n",
    "\n",
    "present_value_at_age = present_value_lifetime_annuity_at_age(payment_per_period, annual_interest_rate, life_expectancy_years, age_received, present_age)\n",
    "print(\"Present value at age 60 of the received amount:{:,.2f}$\".format(present_value_at_age))"
   ]
  },
  {
   "cell_type": "code",
   "execution_count": 61,
   "id": "3c497137",
   "metadata": {
    "ExecuteTime": {
     "end_time": "2024-03-01T18:15:05.712655Z",
     "start_time": "2024-03-01T18:15:05.705567Z"
    }
   },
   "outputs": [],
   "source": [
    "def compare_present_value_at_ages(payment_per_period_age2, annual_interest_rate, life_expectancy_years_age1, life_expectancy_years_age2, age1, age2, present_age, reduction_rate=.6):\n",
    "    \"\"\"\n",
    "    Compare the present values at two different ages of a lifetime annuity starting at age 65,\n",
    "    where the payment per period at age 1 is a function of the payment per period at age 2 with reduction.\n",
    "\n",
    "    Parameters:\n",
    "    payment_per_period_age2 (float): Payment amount per period at age 2 (e.g., per month).\n",
    "    annual_interest_rate (float): Annual interest rate (as a decimal).\n",
    "    life_expectancy_years_age1 (int): Life expectancy in years at age 1.\n",
    "    life_expectancy_years_age2 (int): Life expectancy in years at age 2.\n",
    "    age1 (int): First age to compare (e.g., 60).\n",
    "    age2 (int): Second age to compare (e.g., 65).\n",
    "    present_age (int): Current age (age at which present value is calculated).\n",
    "\n",
    "    Returns:\n",
    "    tuple: A tuple containing the present values at age1 and age2 respectively.\n",
    "    \"\"\"\n",
    "    # Calculate reduced benefit at age 1 using calculate_reduced_benefit\n",
    "    reduced_payment_per_period_age1 = calculate_reduced_benefit(payment_per_period_age2, present_age, reduction_rate)\n",
    "\n",
    "    # Calculate present value at age 1\n",
    "    present_value_at_age1 = present_value_lifetime_annuity_at_age(reduced_payment_per_period_age1, annual_interest_rate, life_expectancy_years_age1, age1, present_age)\n",
    "\n",
    "    # Calculate present value at age 2\n",
    "    present_value_at_age2 = present_value_lifetime_annuity_at_age(payment_per_period_age2, annual_interest_rate, life_expectancy_years_age2, age2, present_age)\n",
    "\n",
    "    return present_value_at_age1, present_value_at_age2\n"
   ]
  },
  {
   "cell_type": "code",
   "execution_count": 62,
   "id": "5cff9914",
   "metadata": {
    "ExecuteTime": {
     "end_time": "2024-03-01T18:15:05.726161Z",
     "start_time": "2024-03-01T18:15:05.720509Z"
    }
   },
   "outputs": [
    {
     "name": "stdout",
     "output_type": "stream",
     "text": [
      "Present value at age 1: 112467.44178132308\n",
      "Present value at age 2: 129353.41304431383\n"
     ]
    }
   ],
   "source": [
    "# Example usage:\n",
    "payment_per_period_age2 = 10000/12  # Payment amount per period at age 2 (e.g., per month)\n",
    "annual_interest_rate = 0.03  # Annual interest rate (as a decimal)\n",
    "life_expectancy_years_age1 = 25  # Life expectancy in years at age 1\n",
    "life_expectancy_years_age2 = 20  # Life expectancy in years at age 2\n",
    "age1 = 60  # First age to compare (e.g., 60)\n",
    "age2 = 65  # Second age to compare (e.g., 65)\n",
    "present_age = 60  # Current age (age at which present value is calculated)\n",
    "\n",
    "present_value_at_age1, present_value_at_age2 = compare_present_value_at_ages(payment_per_period_age2, annual_interest_rate, life_expectancy_years_age1, life_expectancy_years_age2, age1, age2, present_age)\n",
    "\n",
    "print(\"Present value at age 1:\", present_value_at_age1)\n",
    "print(\"Present value at age 2:\", present_value_at_age2)"
   ]
  },
  {
   "cell_type": "code",
   "execution_count": 63,
   "id": "5ce29b8e",
   "metadata": {
    "ExecuteTime": {
     "start_time": "2024-03-01T17:05:37.666Z"
    }
   },
   "outputs": [],
   "source": [
    "import matplotlib.pyplot as plt\n",
    "\n",
    "def plot_present_value_comparison(payment_per_period_age2, annual_interest_rate, life_expectancy_range, age1, age2, present_age, reduction_rate=0.6):\n",
    "    \"\"\"\n",
    "    Plot the compared present values at ages 60 and 65 for different values of life expectancy.\n",
    "\n",
    "    Parameters:\n",
    "    payment_per_period_age2 (float): Payment amount per period at age 2 (e.g., per month).\n",
    "    annual_interest_rate (float): Annual interest rate (as a decimal).\n",
    "    life_expectancy_range (range): Range of life expectancies to compare.\n",
    "    age1 (int): First age to compare (e.g., 60).\n",
    "    age2 (int): Second age to compare (e.g., 65).\n",
    "    present_age (int): Current age (age at which present value is calculated).\n",
    "    reduction_rate (float, optional): Monthly reduction rate (default is 0.6%).\n",
    "    \"\"\"\n",
    "    present_values_60 = []\n",
    "    present_values_65 = []\n",
    "\n",
    "    for life_expectancy_years in life_expectancy_range:\n",
    "        present_value_at_age1, present_value_at_age2 = compare_present_value_at_ages(payment_per_period_age2, annual_interest_rate, life_expectancy_years+5, life_expectancy_years, age1, age2, present_age)\n",
    "        present_values_60.append(present_value_at_age1)\n",
    "        present_values_65.append(present_value_at_age2)\n",
    "\n",
    "    plt.figure(figsize=(10, 6))\n",
    "    plt.plot(list(life_expectancy_range), present_values_60, 'b--', label='Present Value at Age 60')  # Blue dashed line\n",
    "    plt.plot(list(life_expectancy_range), present_values_65, 'r-', label='Present Value at Age 65')   # Red solid line\n",
    "    plt.title('Present Value Comparison at Ages 60 and 65 by Life Expectancy')\n",
    "    plt.xlabel('Life Expectancy (years)')\n",
    "    plt.ylabel('Present Value')\n",
    "    plt.legend()\n",
    "    plt.grid(True)\n",
    "    plt.show()"
   ]
  },
  {
   "cell_type": "code",
   "execution_count": 64,
   "id": "27a35481",
   "metadata": {
    "ExecuteTime": {
     "end_time": "2024-03-01T18:15:07.983070Z",
     "start_time": "2024-03-01T18:15:05.729757Z"
    }
   },
   "outputs": [
    {
     "data": {
      "image/png": "[encoded data removed]",
      "text/plain": [
       "<Figure size 720x432 with 1 Axes>"
      ]
     },
     "metadata": {
      "needs_background": "light"
     },
     "output_type": "display_data"
    }
   ],
   "source": [
    "# Example usage:\n",
    "payment_per_period_age2 = 1000  # Payment amount per period at age 2 (e.g., per month)\n",
    "annual_interest_rate = 0.03  # Annual interest rate (as a decimal)\n",
    "life_expectancy_range = range(5, 21)  # Range of life expectancies to compare (from 5 to 20 years)\n",
    "age1 = 60  # First age to compare (e.g., 60)\n",
    "age2 = 65  # Second age to compare (e.g., 65)\n",
    "present_age = 60  # Current age (age at which present value is calculated)\n",
    "\n",
    "plot_present_value_comparison(payment_per_period_age2, annual_interest_rate, life_expectancy_range, age1, age2, present_age)\n"
   ]
  },
  {
   "cell_type": "code",
   "execution_count": 65,
   "id": "9b787198",
   "metadata": {
    "ExecuteTime": {
     "end_time": "2024-03-01T18:15:08.199366Z",
     "start_time": "2024-03-01T18:15:07.985468Z"
    }
   },
   "outputs": [
    {
     "data": {
      "image/png": "[encoded data removed]",
      "text/plain": [
       "<Figure size 720x432 with 1 Axes>"
      ]
     },
     "metadata": {
      "needs_background": "light"
     },
     "output_type": "display_data"
    }
   ],
   "source": [
    "import matplotlib.pyplot as plt\n",
    "\n",
    "def plot_present_value_comparison(payment_per_period_age2, annual_interest_rates, life_expectancy_range, age1, age2, present_age):\n",
    "    \"\"\"\n",
    "    Plot the compared present values at ages 60 and 65 for different values of life expectancy and interest rates.\n",
    "\n",
    "    Parameters:\n",
    "    payment_per_period_age2 (float): Payment amount per period at age 2 (e.g., per month).\n",
    "    annual_interest_rates (list): List of annual interest rates (as decimals).\n",
    "    life_expectancy_range (range): Range of life expectancies to compare.\n",
    "    age1 (int): First age to compare (e.g., 60).\n",
    "    age2 (int): Second age to compare (e.g., 65).\n",
    "    present_age (int): Current age (age at which present value is calculated).\n",
    "    \"\"\"\n",
    "    plt.figure(figsize=(10, 6))\n",
    "\n",
    "    color_cycle = plt.cm.tab10.colors  # Get a list of colors from the 'tab10' colormap\n",
    "\n",
    "    markers = ['o', 's', 'D']  # Different markers for each line\n",
    "    line_styles_60 = ['b--', 'g--', 'm--']  # Different line styles for age 60\n",
    "    line_styles_65 = ['b-', 'g-', 'm-']     # Different line styles for age 65\n",
    "\n",
    "    for i, annual_interest_rate in enumerate(annual_interest_rates):\n",
    "        present_values_60 = []\n",
    "        present_values_65 = []\n",
    "\n",
    "        for life_expectancy_years in life_expectancy_range:\n",
    "            present_value_at_age1, present_value_at_age2 = compare_present_value_at_ages(payment_per_period_age2, annual_interest_rate, life_expectancy_years+5, life_expectancy_years, age1, age2, present_age)\n",
    "            present_values_60.append(present_value_at_age1)\n",
    "            present_values_65.append(present_value_at_age2)\n",
    "\n",
    "        color_index = i % len(color_cycle)  # Use modulo to cycle through colors\n",
    "        plt.plot(list(life_expectancy_range), present_values_60, line_styles_60[i], label=f'Interest Rate {annual_interest_rate*100}% - Age 60', marker=markers[i])\n",
    "        plt.plot(list(life_expectancy_range), present_values_65, line_styles_65[i], label=f'Interest Rate {annual_interest_rate*100}% - Age 65', marker=markers[i])\n",
    "\n",
    "    plt.title('Present Value Comparison at Ages 60 and 65 by Life Expectancy and Interest Rate')\n",
    "    plt.xlabel('Life Expectancy (years)')\n",
    "    plt.ylabel('Present Value')\n",
    "    plt.legend()\n",
    "    plt.grid(True)\n",
    "    plt.show()\n",
    "\n",
    "# Example usage:\n",
    "payment_per_period_age2 = 10000/2  # Payment amount per period at age 2 (e.g., per month)\n",
    "annual_interest_rates = [0.01, 0.03, 0.05]  # List of annual interest rates (as decimals)\n",
    "life_expectancy_range = range(5, 21)  # Range of life expectancies to compare (from 5 to 20 years)\n",
    "age1 = 60  # First age to compare (e.g., 60)\n",
    "age2 = 65  # Second age to compare (e.g., 65)\n",
    "present_age = 60  # Current age (age at which present value is calculated)\n",
    "\n",
    "plot_present_value_comparison(payment_per_period_age2, annual_interest_rates, life_expectancy_range, age1, age2, present_age)\n"
   ]
  },
  {
   "cell_type": "markdown",
   "id": "5210f112",
   "metadata": {
    "ExecuteTime": {
     "end_time": "2024-02-07T16:51:07.297481Z",
     "start_time": "2024-02-07T16:51:07.288152Z"
    }
   },
   "source": [
    "## Value at 65 when you claim at 65"
   ]
  },
  {
   "cell_type": "code",
   "execution_count": 83,
   "id": "e636631e",
   "metadata": {
    "ExecuteTime": {
     "end_time": "2024-02-20T16:13:46.892512Z",
     "start_time": "2024-02-20T16:13:46.886215Z"
    }
   },
   "outputs": [
    {
     "data": {
      "image/png": "[encoded data removed]",
      "text/plain": [
       "<Figure size 720x432 with 1 Axes>"
      ]
     },
     "metadata": {
      "needs_background": "light"
     },
     "output_type": "display_data"
    }
   ],
   "source": [
    "import matplotlib.pyplot as plt\n",
    "\n",
    "def plot_present_value_comparison(payment_per_period_age2, annual_interest_rate, life_expectancy_range, age1, age2, present_age, reduction_rates):\n",
    "    \"\"\"\n",
    "    Plot the compared present values at ages 60 and 65 for different values of life expectancy and reduction rates.\n",
    "\n",
    "    Parameters:\n",
    "    payment_per_period_age2 (float): Payment amount per period at age 2 (e.g., per month).\n",
    "    annual_interest_rate (float): Annual interest rate (as a decimal).\n",
    "    life_expectancy_range (range): Range of life expectancies to compare.\n",
    "    age1 (int): First age to compare (e.g., 60).\n",
    "    age2 (int): Second age to compare (e.g., 65).\n",
    "    present_age (int): Current age (age at which present value is calculated).\n",
    "    reduction_rates (list): List of reduction rates (as decimals).\n",
    "    \"\"\"\n",
    "    plt.figure(figsize=(10, 6))\n",
    "\n",
    "    color_cycle = plt.cm.tab10.colors  # Get a list of colors from the 'tab10' colormap\n",
    "\n",
    "    markers = ['o', 's', 'D']  # Different markers for each line\n",
    "    line_styles_60 = ['--', '-.', ':']  # Different line styles for age 60\n",
    "    line_styles_65 = ['-', '-', '-']     # Different line styles for age 65\n",
    "\n",
    "    for i, reduction_rate in enumerate(reduction_rates):\n",
    "        present_values_60 = []\n",
    "        present_values_65 = []\n",
    "\n",
    "        for life_expectancy_years in life_expectancy_range:\n",
    "            present_value_at_age1, present_value_at_age2 = compare_present_value_at_ages(payment_per_period_age2, annual_interest_rate, life_expectancy_years+5, life_expectancy_years, age1, age2, present_age, reduction_rate)\n",
    "            present_values_60.append(present_value_at_age1)\n",
    "            present_values_65.append(present_value_at_age2)\n",
    "\n",
    "        color_index = i % len(color_cycle)  # Use modulo to cycle through colors\n",
    "        plt.plot(list(life_expectancy_range), present_values_60, label=f'Reduction Rate {reduction_rate*100}% - Age 60', marker=markers[i], color=color_cycle[color_index], linestyle=line_styles_60[i])\n",
    "    plt.plot(list(life_expectancy_range), present_values_65, label=f'Reduction Rate {reduction_rate*100}% - Age 65', marker=markers[i], color='red', linestyle=line_styles_65[i])    \n",
    "    \n",
    "    plt.title('Present Value Comparison at Ages 60 and 65 by Life Expectancy and Reduction Rate')\n",
    "    plt.xlabel('Life Expectancy (years)')\n",
    "    plt.ylabel('Present Value')\n",
    "    plt.legend()\n",
    "    plt.grid(True)\n",
    "    plt.show()\n",
    "\n",
    "# Example usage:\n",
    "payment_per_period_age2 = 10000/12  # Payment amount per period at age 2 (e.g., per month)\n",
    "annual_interest_rate = 0.03  # Annual interest rate (as a decimal)\n",
    "life_expectancy_range = range(5, 21)  # Range of life expectancies to compare (from 5 to 20 years)\n",
    "age1 = 60  # First age to compare (e.g., 60)\n",
    "age2 = 65  # Second age to compare (e.g., 65)\n",
    "present_age = 60  # Current age (age at which present value is calculated)\n",
    "reduction_rates = [0.4, 0.6, 0.8]  # List of reduction rates (as decimals)\n",
    "\n",
    "plot_present_value_comparison(payment_per_period_age2, annual_interest_rate, life_expectancy_range, age1, age2, present_age, reduction_rates)\n"
   ]
  },
  {
   "cell_type": "markdown",
   "id": "7c26b03e",
   "metadata": {},
   "source": [
    "## We can create a function that takes in various characterisics and outputs expected lifespans at 60 and 65"
   ]
  },
  {
   "cell_type": "code",
   "execution_count": 317,
   "id": "68891c7c",
   "metadata": {},
   "outputs": [],
   "source": [
    "import pandas as pd\n",
    "df = pd.read_csv('../data/ex_no_dis.csv', sep=',')\n",
    "\n",
    "def get_exp_ls(ac,coh,sex,imm,mrt,p,pp):\n",
    "    life_exp=[]\n",
    "    filter = (df[\n",
    "    (df['AC'] == ac) &          # 60 61 62 63 64 65\n",
    "    (df['coh'] == coh) &      # 1926 1930 1935 1940 1945 1950\n",
    "    (df['sex'] == sex) &         # 0(w) 1(m) No\n",
    "    (df['imm'] == imm) &         # 0(no) 1(yes) No\n",
    "    (df['mrt'] == mrt) &         # 0(div/single) 1(marr) 2(widow) No\n",
    "    (df['p'] == p) &           # 1 2 3 4 5 No\n",
    "    (df['pp'] == pp)])          # 0(no) 1 2 3 4 5 No\n",
    "    sum_60 = filter['ex60'].describe().loc['mean']\n",
    "    life_exp.append(sum_60)\n",
    "    sum_65 = filter['ex65'].describe().loc['mean']\n",
    "    life_exp.append(sum_65)\n",
    "    return life_exp"
   ]
  },
  {
   "cell_type": "code",
   "execution_count": 318,
   "id": "37d6707f",
   "metadata": {},
   "outputs": [
    {
     "name": "stdout",
     "output_type": "stream",
     "text": [
      "Expected lifespan at 60,65: [29.1, 24.51]\n"
     ]
    }
   ],
   "source": [
    "#Example\n",
    "test=get_exp_ls(63,1940,0,0,1,3,4)\n",
    "print(\"Expected lifespan at 60,65:\", [round(num,2) for num in test])"
   ]
  },
  {
   "cell_type": "markdown",
   "id": "0a9e2c82",
   "metadata": {},
   "source": [
    "## We can create a function that takes in life expectancies for given characteristics as input, calculates the values for claiming at ages 60 and 65, and then compares them"
   ]
  },
  {
   "cell_type": "code",
   "execution_count": 319,
   "id": "de6ee0ae",
   "metadata": {
    "ExecuteTime": {
     "end_time": "2024-03-01T18:15:08.209240Z",
     "start_time": "2024-03-01T18:15:08.202343Z"
    }
   },
   "outputs": [],
   "source": [
    "def claiming_age_comp(payment_per_period, annual_interest_rate, adjustment_rate, ac, coh, sex, imm, mrt, p, pp):\n",
    "        \n",
    "    present_value=[]\n",
    "    pv=[]\n",
    "    adjustment=[]\n",
    "\n",
    "    life_exp=get_exp_ls(ac, coh,sex,imm,mrt,p,pp) #get life expectancies\n",
    "    monthly_interest_rate = annual_interest_rate / 12  # Convert annual interest rate to monthly\n",
    "    total_periods = [life*12 for life in life_exp]  # Convert life expectancy to months\n",
    "    adj=1-((adjustment_rate*12*5)/100) #transform adjustment factor to full difference between 60 and 65\n",
    "    adjustment=[adj,1]\n",
    "    present_value=[life_exp[0],life_exp[1]]\n",
    "    payment_per_period=[payment_per_period]*2\n",
    "    pmt=[a*b for a,b in zip(adjustment,payment_per_period)]\n",
    "    \n",
    "    #compute present values for annuities at both expected lifespan on adjusted payments\n",
    "    for time in total_periods:\n",
    "        if time == total_periods[0]:\n",
    "            pv = pmt[0] / monthly_interest_rate * (1 - (1 / (1 + monthly_interest_rate) ** time))\n",
    "        elif time == total_periods[1]:\n",
    "            pv = pmt[1] / monthly_interest_rate * (1 - (1 / (1 + monthly_interest_rate) ** time))            \n",
    "        present_value.append(pv)\n",
    "        \n",
    "    return present_value #outputes a list of exp@60, exp@65, pv@60, pv@65"
   ]
  },
  {
   "cell_type": "code",
   "execution_count": 320,
   "id": "f8a112dc",
   "metadata": {},
   "outputs": [],
   "source": [
    "def explain_char(ac,coh,sex,imm,mrt,p,pp): #To make the results more readable\n",
    "    if sex==0:\n",
    "        gender='women'\n",
    "    elif sex==1:\n",
    "        gender='men'\n",
    "    if imm==0:\n",
    "        migrant= \"non-immigrant\"\n",
    "    elif imm==1:\n",
    "        migrant= \"immigrant\"\n",
    "    if mrt==0:\n",
    "        mart='div/single'\n",
    "    elif mrt==1:\n",
    "        mart='married'\n",
    "    elif mrt==2:\n",
    "        mart='widowed'\n",
    "    if p==1:\n",
    "        pens='first quintile'\n",
    "    elif p==2:\n",
    "        pens='second quintile'  \n",
    "    elif p==3:\n",
    "        pens='third quintile'  \n",
    "    elif p==4:\n",
    "        pens='fourth quintile'  \n",
    "    elif p==5:\n",
    "        pens='fifth quintile'  \n",
    "    if pp==0:\n",
    "        ppens='no private pension' \n",
    "    if pp==1:\n",
    "        ppens='first quintile'\n",
    "    elif pp==2:\n",
    "        ppens='second quintile'  \n",
    "    elif pp==3:\n",
    "        ppens='third quintile'  \n",
    "    elif pp==4:\n",
    "        ppens='fourth quintile'  \n",
    "    elif pp==5:\n",
    "        ppens='fifth quintile'  \n",
    "    ch=[ac,cohort, gender, migrant,mart,pens,ppens]\n",
    "    return ch\n",
    "#print(\"For a\",mart,migrant,gender,\"born in the\",coh,\"cohort,\\nWith public pension in the\",pens,\"and\",ppens)"
   ]
  },
  {
   "cell_type": "markdown",
   "id": "4f5c4b7c",
   "metadata": {
    "ExecuteTime": {
     "end_time": "2024-03-01T16:30:27.174001Z",
     "start_time": "2024-03-01T16:30:19.682302Z"
    }
   },
   "source": [
    "## For each type of individual, compute annuities at retirement ages 60 and 65 and the difference between the two"
   ]
  },
  {
   "cell_type": "markdown",
   "id": "4546ad20",
   "metadata": {},
   "source": [
    "#### Loop over characteristics and fill table"
   ]
  },
  {
   "cell_type": "code",
   "execution_count": 322,
   "id": "790ef137",
   "metadata": {},
   "outputs": [],
   "source": [
    "table_des=pd.DataFrame(columns=['AC','Cohort','Sex','Imm','Mrt','Pension','Priv. pension','Ex@60','Ex@65','AC=60','AC=65'])\n",
    "\n",
    "monthly_pmt=1000\n",
    "annual_r=.03\n",
    "monthly_adjustment_factor=.6 #in percentage\n",
    "cohorts=[1926,1930,1935,1940,1945,1950]\n",
    "\n",
    "for ages in range(60,66):    \n",
    "    for cohort in cohorts:\n",
    "        for sex in range(2):\n",
    "            for immigrant in range(2):\n",
    "                for marital in range(3):\n",
    "                    for pension in range(1, 6):\n",
    "                        for private_pension in range(0,6):\n",
    "                            charac=[]\n",
    "                            charac.append(explain_char(ages,cohort,sex,immigrant,marital,pension,private_pension))\n",
    "                            charac.append([claiming_age_comp(monthly_pmt,annual_r,monthly_adjustment_factor,ages,cohort,sex,immigrant,marital,pension,private_pension)])\n",
    "                            row = []\n",
    "                            for sublist in charac:\n",
    "                                if isinstance(sublist[0], list):\n",
    "                                    for item in sublist:\n",
    "                                        row.extend(item)\n",
    "                                else:\n",
    "                                    row.extend(sublist)      \n",
    "                            table_des.loc[len(table_des)]=row\n",
    "\n",
    "table_des['Diff'] = table_des['AC=65']-table_des['AC=60']\n",
    "table_des['Ex@60'] = table_des['Ex@60'].apply(lambda x: '{:,.2f}'.format(x))\n",
    "table_des['Ex@65'] = table_des['Ex@65'].apply(lambda x: '{:,.2f}'.format(x))\n",
    "table_des['AC=60'] = table_des['AC=60'].apply(lambda x: '{:,.0f}$'.format(x))\n",
    "table_des['AC=65'] = table_des['AC=65'].apply(lambda x: '{:,.0f}$'.format(x))\n",
    "table_des['Diff'] = table_des['Diff'].apply(lambda x: '{:,.0f}$'.format(x))"
   ]
  },
  {
   "cell_type": "code",
   "execution_count": 313,
   "id": "428889fb",
   "metadata": {},
   "outputs": [
    {
     "data": {
      "text/html": [
       "<div>\n",
       "<style scoped>\n",
       "    .dataframe tbody tr th:only-of-type {\n",
       "        vertical-align: middle;\n",
       "    }\n",
       "\n",
       "    .dataframe tbody tr th {\n",
       "        vertical-align: top;\n",
       "    }\n",
       "\n",
       "    .dataframe thead th {\n",
       "        text-align: right;\n",
       "    }\n",
       "</style>\n",
       "<table border=\"1\" class=\"dataframe\">\n",
       "  <thead>\n",
       "    <tr style=\"text-align: right;\">\n",
       "      <th></th>\n",
       "      <th>AC</th>\n",
       "      <th>Cohort</th>\n",
       "      <th>Sex</th>\n",
       "      <th>Imm</th>\n",
       "      <th>Mrt</th>\n",
       "      <th>Pension</th>\n",
       "      <th>Priv. pension</th>\n",
       "      <th>Ex@60</th>\n",
       "      <th>Ex@65</th>\n",
       "      <th>AC=60</th>\n",
       "      <th>AC=65</th>\n",
       "      <th>Diff</th>\n",
       "    </tr>\n",
       "  </thead>\n",
       "  <tbody>\n",
       "    <tr>\n",
       "      <th>0</th>\n",
       "      <td>60</td>\n",
       "      <td>1926</td>\n",
       "      <td>women</td>\n",
       "      <td>non-migrant</td>\n",
       "      <td>div/single</td>\n",
       "      <td>first quintile</td>\n",
       "      <td>no private pension</td>\n",
       "      <td>21.42429</td>\n",
       "      <td>17.24150</td>\n",
       "      <td>121,273$</td>\n",
       "      <td>161,382$</td>\n",
       "      <td>40,109$</td>\n",
       "    </tr>\n",
       "    <tr>\n",
       "      <th>1</th>\n",
       "      <td>60</td>\n",
       "      <td>1926</td>\n",
       "      <td>women</td>\n",
       "      <td>non-migrant</td>\n",
       "      <td>div/single</td>\n",
       "      <td>first quintile</td>\n",
       "      <td>first quintile</td>\n",
       "      <td>24.34262</td>\n",
       "      <td>19.97104</td>\n",
       "      <td>132,553$</td>\n",
       "      <td>180,120$</td>\n",
       "      <td>47,567$</td>\n",
       "    </tr>\n",
       "    <tr>\n",
       "      <th>2</th>\n",
       "      <td>60</td>\n",
       "      <td>1926</td>\n",
       "      <td>women</td>\n",
       "      <td>non-migrant</td>\n",
       "      <td>div/single</td>\n",
       "      <td>first quintile</td>\n",
       "      <td>second quintile</td>\n",
       "      <td>24.64251</td>\n",
       "      <td>20.25413</td>\n",
       "      <td>133,657$</td>\n",
       "      <td>181,977$</td>\n",
       "      <td>48,320$</td>\n",
       "    </tr>\n",
       "    <tr>\n",
       "      <th>3</th>\n",
       "      <td>60</td>\n",
       "      <td>1926</td>\n",
       "      <td>women</td>\n",
       "      <td>non-migrant</td>\n",
       "      <td>div/single</td>\n",
       "      <td>first quintile</td>\n",
       "      <td>third quintile</td>\n",
       "      <td>24.85830</td>\n",
       "      <td>20.45811</td>\n",
       "      <td>134,446$</td>\n",
       "      <td>183,306$</td>\n",
       "      <td>48,860$</td>\n",
       "    </tr>\n",
       "    <tr>\n",
       "      <th>4</th>\n",
       "      <td>60</td>\n",
       "      <td>1926</td>\n",
       "      <td>women</td>\n",
       "      <td>non-migrant</td>\n",
       "      <td>div/single</td>\n",
       "      <td>first quintile</td>\n",
       "      <td>fourth quintile</td>\n",
       "      <td>25.11740</td>\n",
       "      <td>20.70331</td>\n",
       "      <td>135,386$</td>\n",
       "      <td>184,892$</td>\n",
       "      <td>49,506$</td>\n",
       "    </tr>\n",
       "    <tr>\n",
       "      <th>5</th>\n",
       "      <td>60</td>\n",
       "      <td>1926</td>\n",
       "      <td>women</td>\n",
       "      <td>non-migrant</td>\n",
       "      <td>div/single</td>\n",
       "      <td>first quintile</td>\n",
       "      <td>fifth quintile</td>\n",
       "      <td>27.13168</td>\n",
       "      <td>22.61962</td>\n",
       "      <td>142,450$</td>\n",
       "      <td>196,895$</td>\n",
       "      <td>54,445$</td>\n",
       "    </tr>\n",
       "    <tr>\n",
       "      <th>6</th>\n",
       "      <td>60</td>\n",
       "      <td>1926</td>\n",
       "      <td>women</td>\n",
       "      <td>non-migrant</td>\n",
       "      <td>div/single</td>\n",
       "      <td>second quintile</td>\n",
       "      <td>no private pension</td>\n",
       "      <td>22.09231</td>\n",
       "      <td>17.86191</td>\n",
       "      <td>123,943$</td>\n",
       "      <td>165,776$</td>\n",
       "      <td>41,834$</td>\n",
       "    </tr>\n",
       "    <tr>\n",
       "      <th>7</th>\n",
       "      <td>60</td>\n",
       "      <td>1926</td>\n",
       "      <td>women</td>\n",
       "      <td>non-migrant</td>\n",
       "      <td>div/single</td>\n",
       "      <td>second quintile</td>\n",
       "      <td>first quintile</td>\n",
       "      <td>25.03857</td>\n",
       "      <td>20.62868</td>\n",
       "      <td>135,101$</td>\n",
       "      <td>184,410$</td>\n",
       "      <td>49,310$</td>\n",
       "    </tr>\n",
       "    <tr>\n",
       "      <th>8</th>\n",
       "      <td>60</td>\n",
       "      <td>1926</td>\n",
       "      <td>women</td>\n",
       "      <td>non-migrant</td>\n",
       "      <td>div/single</td>\n",
       "      <td>second quintile</td>\n",
       "      <td>second quintile</td>\n",
       "      <td>25.34088</td>\n",
       "      <td>20.91506</td>\n",
       "      <td>136,191$</td>\n",
       "      <td>186,252$</td>\n",
       "      <td>50,062$</td>\n",
       "    </tr>\n",
       "    <tr>\n",
       "      <th>9</th>\n",
       "      <td>60</td>\n",
       "      <td>1926</td>\n",
       "      <td>women</td>\n",
       "      <td>non-migrant</td>\n",
       "      <td>div/single</td>\n",
       "      <td>second quintile</td>\n",
       "      <td>third quintile</td>\n",
       "      <td>25.55838</td>\n",
       "      <td>21.12135</td>\n",
       "      <td>136,969$</td>\n",
       "      <td>187,570$</td>\n",
       "      <td>50,600$</td>\n",
       "    </tr>\n",
       "    <tr>\n",
       "      <th>10</th>\n",
       "      <td>60</td>\n",
       "      <td>1926</td>\n",
       "      <td>women</td>\n",
       "      <td>non-migrant</td>\n",
       "      <td>div/single</td>\n",
       "      <td>second quintile</td>\n",
       "      <td>fourth quintile</td>\n",
       "      <td>25.81947</td>\n",
       "      <td>21.36927</td>\n",
       "      <td>137,897$</td>\n",
       "      <td>189,142$</td>\n",
       "      <td>51,245$</td>\n",
       "    </tr>\n",
       "    <tr>\n",
       "      <th>11</th>\n",
       "      <td>60</td>\n",
       "      <td>1926</td>\n",
       "      <td>women</td>\n",
       "      <td>non-migrant</td>\n",
       "      <td>div/single</td>\n",
       "      <td>second quintile</td>\n",
       "      <td>fifth quintile</td>\n",
       "      <td>27.84758</td>\n",
       "      <td>23.30466</td>\n",
       "      <td>144,860$</td>\n",
       "      <td>201,021$</td>\n",
       "      <td>56,162$</td>\n",
       "    </tr>\n",
       "    <tr>\n",
       "      <th>12</th>\n",
       "      <td>60</td>\n",
       "      <td>1926</td>\n",
       "      <td>women</td>\n",
       "      <td>non-migrant</td>\n",
       "      <td>div/single</td>\n",
       "      <td>third quintile</td>\n",
       "      <td>no private pension</td>\n",
       "      <td>21.71519</td>\n",
       "      <td>17.51132</td>\n",
       "      <td>122,442$</td>\n",
       "      <td>163,303$</td>\n",
       "      <td>40,861$</td>\n",
       "    </tr>\n",
       "    <tr>\n",
       "      <th>13</th>\n",
       "      <td>60</td>\n",
       "      <td>1926</td>\n",
       "      <td>women</td>\n",
       "      <td>non-migrant</td>\n",
       "      <td>div/single</td>\n",
       "      <td>third quintile</td>\n",
       "      <td>first quintile</td>\n",
       "      <td>24.64593</td>\n",
       "      <td>20.25737</td>\n",
       "      <td>133,670$</td>\n",
       "      <td>181,999$</td>\n",
       "      <td>48,329$</td>\n",
       "    </tr>\n",
       "    <tr>\n",
       "      <th>14</th>\n",
       "      <td>60</td>\n",
       "      <td>1926</td>\n",
       "      <td>women</td>\n",
       "      <td>non-migrant</td>\n",
       "      <td>div/single</td>\n",
       "      <td>third quintile</td>\n",
       "      <td>second quintile</td>\n",
       "      <td>24.94690</td>\n",
       "      <td>20.54192</td>\n",
       "      <td>134,768$</td>\n",
       "      <td>183,849$</td>\n",
       "      <td>49,081$</td>\n",
       "    </tr>\n",
       "    <tr>\n",
       "      <th>15</th>\n",
       "      <td>60</td>\n",
       "      <td>1926</td>\n",
       "      <td>women</td>\n",
       "      <td>non-migrant</td>\n",
       "      <td>div/single</td>\n",
       "      <td>third quintile</td>\n",
       "      <td>third quintile</td>\n",
       "      <td>25.16345</td>\n",
       "      <td>20.74693</td>\n",
       "      <td>135,552$</td>\n",
       "      <td>185,173$</td>\n",
       "      <td>49,621$</td>\n",
       "    </tr>\n",
       "    <tr>\n",
       "      <th>16</th>\n",
       "      <td>60</td>\n",
       "      <td>1926</td>\n",
       "      <td>women</td>\n",
       "      <td>non-migrant</td>\n",
       "      <td>div/single</td>\n",
       "      <td>third quintile</td>\n",
       "      <td>fourth quintile</td>\n",
       "      <td>25.42343</td>\n",
       "      <td>20.99333</td>\n",
       "      <td>136,487$</td>\n",
       "      <td>186,753$</td>\n",
       "      <td>50,266$</td>\n",
       "    </tr>\n",
       "    <tr>\n",
       "      <th>17</th>\n",
       "      <td>60</td>\n",
       "      <td>1926</td>\n",
       "      <td>women</td>\n",
       "      <td>non-migrant</td>\n",
       "      <td>div/single</td>\n",
       "      <td>third quintile</td>\n",
       "      <td>fifth quintile</td>\n",
       "      <td>27.44386</td>\n",
       "      <td>22.91811</td>\n",
       "      <td>143,507$</td>\n",
       "      <td>198,703$</td>\n",
       "      <td>55,196$</td>\n",
       "    </tr>\n",
       "    <tr>\n",
       "      <th>18</th>\n",
       "      <td>60</td>\n",
       "      <td>1926</td>\n",
       "      <td>women</td>\n",
       "      <td>non-migrant</td>\n",
       "      <td>div/single</td>\n",
       "      <td>frouth quintile</td>\n",
       "      <td>no private pension</td>\n",
       "      <td>21.56620</td>\n",
       "      <td>17.37306</td>\n",
       "      <td>121,845$</td>\n",
       "      <td>162,320$</td>\n",
       "      <td>40,476$</td>\n",
       "    </tr>\n",
       "    <tr>\n",
       "      <th>19</th>\n",
       "      <td>60</td>\n",
       "      <td>1926</td>\n",
       "      <td>women</td>\n",
       "      <td>non-migrant</td>\n",
       "      <td>div/single</td>\n",
       "      <td>frouth quintile</td>\n",
       "      <td>first quintile</td>\n",
       "      <td>24.49063</td>\n",
       "      <td>20.11071</td>\n",
       "      <td>133,099$</td>\n",
       "      <td>181,038$</td>\n",
       "      <td>47,939$</td>\n",
       "    </tr>\n",
       "    <tr>\n",
       "      <th>20</th>\n",
       "      <td>60</td>\n",
       "      <td>1926</td>\n",
       "      <td>women</td>\n",
       "      <td>non-migrant</td>\n",
       "      <td>div/single</td>\n",
       "      <td>frouth quintile</td>\n",
       "      <td>second quintile</td>\n",
       "      <td>24.79105</td>\n",
       "      <td>20.39452</td>\n",
       "      <td>134,201$</td>\n",
       "      <td>182,893$</td>\n",
       "      <td>48,692$</td>\n",
       "    </tr>\n",
       "    <tr>\n",
       "      <th>21</th>\n",
       "      <td>60</td>\n",
       "      <td>1926</td>\n",
       "      <td>women</td>\n",
       "      <td>non-migrant</td>\n",
       "      <td>div/single</td>\n",
       "      <td>frouth quintile</td>\n",
       "      <td>third quintile</td>\n",
       "      <td>25.00722</td>\n",
       "      <td>20.59900</td>\n",
       "      <td>134,987$</td>\n",
       "      <td>184,219$</td>\n",
       "      <td>49,232$</td>\n",
       "    </tr>\n",
       "    <tr>\n",
       "      <th>22</th>\n",
       "      <td>60</td>\n",
       "      <td>1926</td>\n",
       "      <td>women</td>\n",
       "      <td>non-migrant</td>\n",
       "      <td>div/single</td>\n",
       "      <td>frouth quintile</td>\n",
       "      <td>fourth quintile</td>\n",
       "      <td>25.26675</td>\n",
       "      <td>20.84479</td>\n",
       "      <td>135,924$</td>\n",
       "      <td>185,802$</td>\n",
       "      <td>49,877$</td>\n",
       "    </tr>\n",
       "    <tr>\n",
       "      <th>23</th>\n",
       "      <td>60</td>\n",
       "      <td>1926</td>\n",
       "      <td>women</td>\n",
       "      <td>non-migrant</td>\n",
       "      <td>div/single</td>\n",
       "      <td>frouth quintile</td>\n",
       "      <td>fifth quintile</td>\n",
       "      <td>27.28405</td>\n",
       "      <td>22.76527</td>\n",
       "      <td>142,967$</td>\n",
       "      <td>197,779$</td>\n",
       "      <td>54,812$</td>\n",
       "    </tr>\n",
       "    <tr>\n",
       "      <th>24</th>\n",
       "      <td>60</td>\n",
       "      <td>1926</td>\n",
       "      <td>women</td>\n",
       "      <td>non-migrant</td>\n",
       "      <td>div/single</td>\n",
       "      <td>fifth quintile</td>\n",
       "      <td>no private pension</td>\n",
       "      <td>21.64161</td>\n",
       "      <td>17.44302</td>\n",
       "      <td>122,147$</td>\n",
       "      <td>162,818$</td>\n",
       "      <td>40,671$</td>\n",
       "    </tr>\n",
       "  </tbody>\n",
       "</table>\n",
       "</div>"
      ],
      "text/plain": [
       "    AC  Cohort    Sex          Imm         Mrt          Pension  \\\n",
       "0   60    1926  women  non-migrant  div/single   first quintile   \n",
       "1   60    1926  women  non-migrant  div/single   first quintile   \n",
       "2   60    1926  women  non-migrant  div/single   first quintile   \n",
       "3   60    1926  women  non-migrant  div/single   first quintile   \n",
       "4   60    1926  women  non-migrant  div/single   first quintile   \n",
       "5   60    1926  women  non-migrant  div/single   first quintile   \n",
       "6   60    1926  women  non-migrant  div/single  second quintile   \n",
       "7   60    1926  women  non-migrant  div/single  second quintile   \n",
       "8   60    1926  women  non-migrant  div/single  second quintile   \n",
       "9   60    1926  women  non-migrant  div/single  second quintile   \n",
       "10  60    1926  women  non-migrant  div/single  second quintile   \n",
       "11  60    1926  women  non-migrant  div/single  second quintile   \n",
       "12  60    1926  women  non-migrant  div/single   third quintile   \n",
       "13  60    1926  women  non-migrant  div/single   third quintile   \n",
       "14  60    1926  women  non-migrant  div/single   third quintile   \n",
       "15  60    1926  women  non-migrant  div/single   third quintile   \n",
       "16  60    1926  women  non-migrant  div/single   third quintile   \n",
       "17  60    1926  women  non-migrant  div/single   third quintile   \n",
       "18  60    1926  women  non-migrant  div/single  frouth quintile   \n",
       "19  60    1926  women  non-migrant  div/single  frouth quintile   \n",
       "20  60    1926  women  non-migrant  div/single  frouth quintile   \n",
       "21  60    1926  women  non-migrant  div/single  frouth quintile   \n",
       "22  60    1926  women  non-migrant  div/single  frouth quintile   \n",
       "23  60    1926  women  non-migrant  div/single  frouth quintile   \n",
       "24  60    1926  women  non-migrant  div/single   fifth quintile   \n",
       "\n",
       "         Priv. pension     Ex@60     Ex@65     AC=60     AC=65     Diff  \n",
       "0   no private pension  21.42429  17.24150  121,273$  161,382$  40,109$  \n",
       "1       first quintile  24.34262  19.97104  132,553$  180,120$  47,567$  \n",
       "2      second quintile  24.64251  20.25413  133,657$  181,977$  48,320$  \n",
       "3       third quintile  24.85830  20.45811  134,446$  183,306$  48,860$  \n",
       "4      fourth quintile  25.11740  20.70331  135,386$  184,892$  49,506$  \n",
       "5       fifth quintile  27.13168  22.61962  142,450$  196,895$  54,445$  \n",
       "6   no private pension  22.09231  17.86191  123,943$  165,776$  41,834$  \n",
       "7       first quintile  25.03857  20.62868  135,101$  184,410$  49,310$  \n",
       "8      second quintile  25.34088  20.91506  136,191$  186,252$  50,062$  \n",
       "9       third quintile  25.55838  21.12135  136,969$  187,570$  50,600$  \n",
       "10     fourth quintile  25.81947  21.36927  137,897$  189,142$  51,245$  \n",
       "11      fifth quintile  27.84758  23.30466  144,860$  201,021$  56,162$  \n",
       "12  no private pension  21.71519  17.51132  122,442$  163,303$  40,861$  \n",
       "13      first quintile  24.64593  20.25737  133,670$  181,999$  48,329$  \n",
       "14     second quintile  24.94690  20.54192  134,768$  183,849$  49,081$  \n",
       "15      third quintile  25.16345  20.74693  135,552$  185,173$  49,621$  \n",
       "16     fourth quintile  25.42343  20.99333  136,487$  186,753$  50,266$  \n",
       "17      fifth quintile  27.44386  22.91811  143,507$  198,703$  55,196$  \n",
       "18  no private pension  21.56620  17.37306  121,845$  162,320$  40,476$  \n",
       "19      first quintile  24.49063  20.11071  133,099$  181,038$  47,939$  \n",
       "20     second quintile  24.79105  20.39452  134,201$  182,893$  48,692$  \n",
       "21      third quintile  25.00722  20.59900  134,987$  184,219$  49,232$  \n",
       "22     fourth quintile  25.26675  20.84479  135,924$  185,802$  49,877$  \n",
       "23      fifth quintile  27.28405  22.76527  142,967$  197,779$  54,812$  \n",
       "24  no private pension  21.64161  17.44302  122,147$  162,818$  40,671$  "
      ]
     },
     "execution_count": 313,
     "metadata": {},
     "output_type": "execute_result"
    }
   ],
   "source": [
    "table_des.head(25)"
   ]
  },
  {
   "cell_type": "code",
   "execution_count": 350,
   "id": "dae531b2",
   "metadata": {},
   "outputs": [
    {
     "name": "stdout",
     "output_type": "stream",
     "text": [
      "       AC  Cohort  Sex          Imm         Mrt         Pension  \\\n",
      "194    60    1926  men  non-migrant  div/single  third quintile   \n",
      "2354   61    1926  men  non-migrant  div/single  third quintile   \n",
      "4514   62    1926  men  non-migrant  div/single  third quintile   \n",
      "6674   63    1926  men  non-migrant  div/single  third quintile   \n",
      "8834   64    1926  men  non-migrant  div/single  third quintile   \n",
      "10994  65    1926  men  non-migrant  div/single  third quintile   \n",
      "\n",
      "         Priv. pension  Ex@60  Ex@65     AC=60     AC=65     Diff  \n",
      "194    second quintile  20.37  16.27  116,947$  154,319$  37,372$  \n",
      "2354   second quintile  20.91  16.77  119,195$  157,980$  38,785$  \n",
      "4514   second quintile  20.89  16.75  119,114$  157,847$  38,733$  \n",
      "6674   second quintile  21.05  16.89  119,741$  158,872$  39,131$  \n",
      "8834   second quintile  20.99  16.84  119,503$  158,483$  38,980$  \n",
      "10994  second quintile  21.59  17.40  121,950$  162,493$  40,543$  \n"
     ]
    }
   ],
   "source": [
    "print(table_des[(table_des['AC'].between(60,65)) & (table_des['Cohort'] == 1926) & \n",
    "                (table_des['Sex'] == 'men') & (table_des['Imm'] == 'non-migrant') & \n",
    "                (table_des['Mrt'] == 'div/single') & (table_des['Pension'] == 'third quintile') & \n",
    "                (table_des['Priv. pension'] == 'second quintile')])"
   ]
  },
  {
   "cell_type": "code",
   "execution_count": 326,
   "id": "6b801c2d",
   "metadata": {},
   "outputs": [
    {
     "data": {
      "text/html": [
       "<div>\n",
       "<style scoped>\n",
       "    .dataframe tbody tr th:only-of-type {\n",
       "        vertical-align: middle;\n",
       "    }\n",
       "\n",
       "    .dataframe tbody tr th {\n",
       "        vertical-align: top;\n",
       "    }\n",
       "\n",
       "    .dataframe thead th {\n",
       "        text-align: right;\n",
       "    }\n",
       "</style>\n",
       "<table border=\"1\" class=\"dataframe\">\n",
       "  <thead>\n",
       "    <tr style=\"text-align: right;\">\n",
       "      <th></th>\n",
       "      <th>AC</th>\n",
       "      <th>Cohort</th>\n",
       "      <th>Sex</th>\n",
       "      <th>Imm</th>\n",
       "      <th>Mrt</th>\n",
       "      <th>Pension</th>\n",
       "      <th>Priv. pension</th>\n",
       "      <th>Ex@60</th>\n",
       "      <th>Ex@65</th>\n",
       "      <th>AC=60</th>\n",
       "      <th>AC=65</th>\n",
       "      <th>Diff</th>\n",
       "    </tr>\n",
       "  </thead>\n",
       "  <tbody>\n",
       "    <tr>\n",
       "      <th>12731</th>\n",
       "      <td>65</td>\n",
       "      <td>1950</td>\n",
       "      <td>women</td>\n",
       "      <td>immigrant</td>\n",
       "      <td>married</td>\n",
       "      <td>second quintile</td>\n",
       "      <td>fifth quintile</td>\n",
       "      <td>36.06</td>\n",
       "      <td>31.28</td>\n",
       "      <td>169,112$</td>\n",
       "      <td>243,294$</td>\n",
       "      <td>74,182$</td>\n",
       "    </tr>\n",
       "    <tr>\n",
       "      <th>12737</th>\n",
       "      <td>65</td>\n",
       "      <td>1950</td>\n",
       "      <td>women</td>\n",
       "      <td>immigrant</td>\n",
       "      <td>married</td>\n",
       "      <td>third quintile</td>\n",
       "      <td>fifth quintile</td>\n",
       "      <td>35.65</td>\n",
       "      <td>30.87</td>\n",
       "      <td>168,025$</td>\n",
       "      <td>241,375$</td>\n",
       "      <td>73,350$</td>\n",
       "    </tr>\n",
       "    <tr>\n",
       "      <th>12749</th>\n",
       "      <td>65</td>\n",
       "      <td>1950</td>\n",
       "      <td>women</td>\n",
       "      <td>immigrant</td>\n",
       "      <td>married</td>\n",
       "      <td>fifth quintile</td>\n",
       "      <td>fifth quintile</td>\n",
       "      <td>35.57</td>\n",
       "      <td>30.79</td>\n",
       "      <td>167,810$</td>\n",
       "      <td>240,996$</td>\n",
       "      <td>73,186$</td>\n",
       "    </tr>\n",
       "    <tr>\n",
       "      <th>12743</th>\n",
       "      <td>65</td>\n",
       "      <td>1950</td>\n",
       "      <td>women</td>\n",
       "      <td>immigrant</td>\n",
       "      <td>married</td>\n",
       "      <td>fourth quintile</td>\n",
       "      <td>fifth quintile</td>\n",
       "      <td>35.48</td>\n",
       "      <td>30.71</td>\n",
       "      <td>167,589$</td>\n",
       "      <td>240,606$</td>\n",
       "      <td>73,017$</td>\n",
       "    </tr>\n",
       "    <tr>\n",
       "      <th>8411</th>\n",
       "      <td>63</td>\n",
       "      <td>1950</td>\n",
       "      <td>women</td>\n",
       "      <td>immigrant</td>\n",
       "      <td>married</td>\n",
       "      <td>second quintile</td>\n",
       "      <td>fifth quintile</td>\n",
       "      <td>35.46</td>\n",
       "      <td>30.68</td>\n",
       "      <td>167,519$</td>\n",
       "      <td>240,482$</td>\n",
       "      <td>72,963$</td>\n",
       "    </tr>\n",
       "    <tr>\n",
       "      <th>10571</th>\n",
       "      <td>64</td>\n",
       "      <td>1950</td>\n",
       "      <td>women</td>\n",
       "      <td>immigrant</td>\n",
       "      <td>married</td>\n",
       "      <td>second quintile</td>\n",
       "      <td>fifth quintile</td>\n",
       "      <td>35.39</td>\n",
       "      <td>30.62</td>\n",
       "      <td>167,346$</td>\n",
       "      <td>240,176$</td>\n",
       "      <td>72,831$</td>\n",
       "    </tr>\n",
       "    <tr>\n",
       "      <th>12725</th>\n",
       "      <td>65</td>\n",
       "      <td>1950</td>\n",
       "      <td>women</td>\n",
       "      <td>immigrant</td>\n",
       "      <td>married</td>\n",
       "      <td>first quintile</td>\n",
       "      <td>fifth quintile</td>\n",
       "      <td>35.33</td>\n",
       "      <td>30.55</td>\n",
       "      <td>167,170$</td>\n",
       "      <td>239,867$</td>\n",
       "      <td>72,697$</td>\n",
       "    </tr>\n",
       "    <tr>\n",
       "      <th>4091</th>\n",
       "      <td>61</td>\n",
       "      <td>1950</td>\n",
       "      <td>women</td>\n",
       "      <td>immigrant</td>\n",
       "      <td>married</td>\n",
       "      <td>second quintile</td>\n",
       "      <td>fifth quintile</td>\n",
       "      <td>35.31</td>\n",
       "      <td>30.54</td>\n",
       "      <td>167,121$</td>\n",
       "      <td>239,781$</td>\n",
       "      <td>72,660$</td>\n",
       "    </tr>\n",
       "    <tr>\n",
       "      <th>6251</th>\n",
       "      <td>62</td>\n",
       "      <td>1950</td>\n",
       "      <td>women</td>\n",
       "      <td>immigrant</td>\n",
       "      <td>married</td>\n",
       "      <td>second quintile</td>\n",
       "      <td>fifth quintile</td>\n",
       "      <td>35.29</td>\n",
       "      <td>30.51</td>\n",
       "      <td>167,061$</td>\n",
       "      <td>239,675$</td>\n",
       "      <td>72,614$</td>\n",
       "    </tr>\n",
       "    <tr>\n",
       "      <th>12371</th>\n",
       "      <td>65</td>\n",
       "      <td>1945</td>\n",
       "      <td>women</td>\n",
       "      <td>immigrant</td>\n",
       "      <td>married</td>\n",
       "      <td>second quintile</td>\n",
       "      <td>fifth quintile</td>\n",
       "      <td>35.21</td>\n",
       "      <td>30.44</td>\n",
       "      <td>166,849$</td>\n",
       "      <td>239,302$</td>\n",
       "      <td>72,452$</td>\n",
       "    </tr>\n",
       "  </tbody>\n",
       "</table>\n",
       "</div>"
      ],
      "text/plain": [
       "       AC  Cohort    Sex        Imm      Mrt          Pension   Priv. pension  \\\n",
       "12731  65    1950  women  immigrant  married  second quintile  fifth quintile   \n",
       "12737  65    1950  women  immigrant  married   third quintile  fifth quintile   \n",
       "12749  65    1950  women  immigrant  married   fifth quintile  fifth quintile   \n",
       "12743  65    1950  women  immigrant  married  fourth quintile  fifth quintile   \n",
       "8411   63    1950  women  immigrant  married  second quintile  fifth quintile   \n",
       "10571  64    1950  women  immigrant  married  second quintile  fifth quintile   \n",
       "12725  65    1950  women  immigrant  married   first quintile  fifth quintile   \n",
       "4091   61    1950  women  immigrant  married  second quintile  fifth quintile   \n",
       "6251   62    1950  women  immigrant  married  second quintile  fifth quintile   \n",
       "12371  65    1945  women  immigrant  married  second quintile  fifth quintile   \n",
       "\n",
       "       Ex@60  Ex@65     AC=60     AC=65     Diff  \n",
       "12731  36.06  31.28  169,112$  243,294$  74,182$  \n",
       "12737  35.65  30.87  168,025$  241,375$  73,350$  \n",
       "12749  35.57  30.79  167,810$  240,996$  73,186$  \n",
       "12743  35.48  30.71  167,589$  240,606$  73,017$  \n",
       "8411   35.46  30.68  167,519$  240,482$  72,963$  \n",
       "10571  35.39  30.62  167,346$  240,176$  72,831$  \n",
       "12725  35.33  30.55  167,170$  239,867$  72,697$  \n",
       "4091   35.31  30.54  167,121$  239,781$  72,660$  \n",
       "6251   35.29  30.51  167,061$  239,675$  72,614$  \n",
       "12371  35.21  30.44  166,849$  239,302$  72,452$  "
      ]
     },
     "execution_count": 326,
     "metadata": {},
     "output_type": "execute_result"
    }
   ],
   "source": [
    "sort_df = table_des.sort_values(by='Diff', ascending=False)\n",
    "sort_df.head(10)"
   ]
  },
  {
   "cell_type": "code",
   "execution_count": 337,
   "id": "9fd9d8e1",
   "metadata": {},
   "outputs": [
    {
     "name": "stdout",
     "output_type": "stream",
     "text": [
      "21.58\n",
      "count    12960.000000\n",
      "mean        21.653152\n",
      "std          3.229722\n",
      "min         13.190000\n",
      "25%         19.240000\n",
      "50%         21.580000\n",
      "75%         24.070000\n",
      "max         31.280000\n",
      "Name: Ex@65, dtype: float64\n"
     ]
    }
   ],
   "source": [
    "print(table_des['Ex@65'].astype(float).quantile(0.5))\n",
    "print(table_des['Ex@65'].astype(float).describe())"
   ]
  },
  {
   "cell_type": "code",
   "execution_count": 357,
   "id": "322239a4",
   "metadata": {},
   "outputs": [
    {
     "name": "stdout",
     "output_type": "stream",
     "text": [
      "count    18.000000\n",
      "mean     19.493333\n",
      "std       0.810722\n",
      "min      18.330000\n",
      "25%      18.945000\n",
      "50%      19.130000\n",
      "75%      20.280000\n",
      "max      21.110000\n",
      "Name: Ex@65, dtype: float64\n"
     ]
    }
   ],
   "source": [
    "print(table_des['Ex@65'][((table_des['Cohort'] == 1950) & (table_des['Sex'] == 'men') & (table_des['Imm'] == 'non-migrant') & (table_des['Pension'] == 'third quintile') & (table_des['Priv. pension'] == 'second quintile'))].astype(float).describe())\n"
   ]
  },
  {
   "cell_type": "code",
   "execution_count": null,
   "id": "36deec6b",
   "metadata": {},
   "outputs": [],
   "source": []
  }
 ],
 "metadata": {
  "kernelspec": {
   "display_name": "Python 3 (ipykernel)",
   "language": "python",
   "name": "python3"
  },
  "language_info": {
   "codemirror_mode": {
    "name": "ipython",
    "version": 3
   },
   "file_extension": ".py",
   "mimetype": "text/x-python",
   "name": "python",
   "nbconvert_exporter": "python",
   "pygments_lexer": "ipython3",
   "version": "3.11.3"
  }
 },
 "nbformat": 4,
 "nbformat_minor": 5
}
