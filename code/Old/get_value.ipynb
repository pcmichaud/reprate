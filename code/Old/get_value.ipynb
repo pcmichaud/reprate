{
 "cells": [
  {
   "cell_type": "code",
   "execution_count": 1,
   "id": "a69aac73",
   "metadata": {},
   "outputs": [],
   "source": [
    "import pandas as pd\n",
    "import numpy as np\n",
    "import matplotlib.pyplot as plt\n",
    "\n",
    "df = pd.read_csv('../data/ex.csv', sep=',')"
   ]
  },
  {
   "cell_type": "code",
   "execution_count": 2,
   "id": "638bead7",
   "metadata": {},
   "outputs": [
    {
     "data": {
      "text/html": [
       "<div>\n",
       "<style scoped>\n",
       "    .dataframe tbody tr th:only-of-type {\n",
       "        vertical-align: middle;\n",
       "    }\n",
       "\n",
       "    .dataframe tbody tr th {\n",
       "        vertical-align: top;\n",
       "    }\n",
       "\n",
       "    .dataframe thead th {\n",
       "        text-align: right;\n",
       "    }\n",
       "</style>\n",
       "<table border=\"1\" class=\"dataframe\">\n",
       "  <thead>\n",
       "    <tr style=\"text-align: right;\">\n",
       "      <th></th>\n",
       "      <th>Unnamed: 0</th>\n",
       "      <th>AC</th>\n",
       "      <th>coh</th>\n",
       "      <th>dis</th>\n",
       "      <th>sex</th>\n",
       "      <th>imm</th>\n",
       "      <th>mrt</th>\n",
       "      <th>p</th>\n",
       "      <th>pp</th>\n",
       "      <th>ex60</th>\n",
       "    </tr>\n",
       "  </thead>\n",
       "  <tbody>\n",
       "    <tr>\n",
       "      <th>0</th>\n",
       "      <td>0</td>\n",
       "      <td>60</td>\n",
       "      <td>1926</td>\n",
       "      <td>0</td>\n",
       "      <td>99</td>\n",
       "      <td>99</td>\n",
       "      <td>99</td>\n",
       "      <td>99</td>\n",
       "      <td>99</td>\n",
       "      <td>23.361782</td>\n",
       "    </tr>\n",
       "    <tr>\n",
       "      <th>1</th>\n",
       "      <td>1</td>\n",
       "      <td>60</td>\n",
       "      <td>1926</td>\n",
       "      <td>1</td>\n",
       "      <td>99</td>\n",
       "      <td>99</td>\n",
       "      <td>99</td>\n",
       "      <td>99</td>\n",
       "      <td>99</td>\n",
       "      <td>18.435131</td>\n",
       "    </tr>\n",
       "    <tr>\n",
       "      <th>2</th>\n",
       "      <td>2</td>\n",
       "      <td>60</td>\n",
       "      <td>1930</td>\n",
       "      <td>0</td>\n",
       "      <td>99</td>\n",
       "      <td>99</td>\n",
       "      <td>99</td>\n",
       "      <td>99</td>\n",
       "      <td>99</td>\n",
       "      <td>24.014652</td>\n",
       "    </tr>\n",
       "    <tr>\n",
       "      <th>3</th>\n",
       "      <td>3</td>\n",
       "      <td>60</td>\n",
       "      <td>1930</td>\n",
       "      <td>1</td>\n",
       "      <td>99</td>\n",
       "      <td>99</td>\n",
       "      <td>99</td>\n",
       "      <td>99</td>\n",
       "      <td>99</td>\n",
       "      <td>19.027926</td>\n",
       "    </tr>\n",
       "    <tr>\n",
       "      <th>4</th>\n",
       "      <td>4</td>\n",
       "      <td>60</td>\n",
       "      <td>1935</td>\n",
       "      <td>0</td>\n",
       "      <td>99</td>\n",
       "      <td>99</td>\n",
       "      <td>99</td>\n",
       "      <td>99</td>\n",
       "      <td>99</td>\n",
       "      <td>24.685810</td>\n",
       "    </tr>\n",
       "    <tr>\n",
       "      <th>...</th>\n",
       "      <td>...</td>\n",
       "      <td>...</td>\n",
       "      <td>...</td>\n",
       "      <td>...</td>\n",
       "      <td>...</td>\n",
       "      <td>...</td>\n",
       "      <td>...</td>\n",
       "      <td>...</td>\n",
       "      <td>...</td>\n",
       "      <td>...</td>\n",
       "    </tr>\n",
       "    <tr>\n",
       "      <th>31315</th>\n",
       "      <td>31315</td>\n",
       "      <td>65</td>\n",
       "      <td>1950</td>\n",
       "      <td>1</td>\n",
       "      <td>1</td>\n",
       "      <td>1</td>\n",
       "      <td>2</td>\n",
       "      <td>5</td>\n",
       "      <td>1</td>\n",
       "      <td>21.379046</td>\n",
       "    </tr>\n",
       "    <tr>\n",
       "      <th>31316</th>\n",
       "      <td>31316</td>\n",
       "      <td>65</td>\n",
       "      <td>1950</td>\n",
       "      <td>1</td>\n",
       "      <td>1</td>\n",
       "      <td>1</td>\n",
       "      <td>2</td>\n",
       "      <td>5</td>\n",
       "      <td>2</td>\n",
       "      <td>21.645223</td>\n",
       "    </tr>\n",
       "    <tr>\n",
       "      <th>31317</th>\n",
       "      <td>31317</td>\n",
       "      <td>65</td>\n",
       "      <td>1950</td>\n",
       "      <td>1</td>\n",
       "      <td>1</td>\n",
       "      <td>1</td>\n",
       "      <td>2</td>\n",
       "      <td>5</td>\n",
       "      <td>3</td>\n",
       "      <td>21.806265</td>\n",
       "    </tr>\n",
       "    <tr>\n",
       "      <th>31318</th>\n",
       "      <td>31318</td>\n",
       "      <td>65</td>\n",
       "      <td>1950</td>\n",
       "      <td>1</td>\n",
       "      <td>1</td>\n",
       "      <td>1</td>\n",
       "      <td>2</td>\n",
       "      <td>5</td>\n",
       "      <td>4</td>\n",
       "      <td>22.004739</td>\n",
       "    </tr>\n",
       "    <tr>\n",
       "      <th>31319</th>\n",
       "      <td>31319</td>\n",
       "      <td>65</td>\n",
       "      <td>1950</td>\n",
       "      <td>1</td>\n",
       "      <td>1</td>\n",
       "      <td>1</td>\n",
       "      <td>2</td>\n",
       "      <td>5</td>\n",
       "      <td>5</td>\n",
       "      <td>23.946452</td>\n",
       "    </tr>\n",
       "  </tbody>\n",
       "</table>\n",
       "<p>31320 rows × 10 columns</p>\n",
       "</div>"
      ],
      "text/plain": [
       "       Unnamed: 0  AC   coh  dis  sex  imm  mrt   p  pp       ex60\n",
       "0               0  60  1926    0   99   99   99  99  99  23.361782\n",
       "1               1  60  1926    1   99   99   99  99  99  18.435131\n",
       "2               2  60  1930    0   99   99   99  99  99  24.014652\n",
       "3               3  60  1930    1   99   99   99  99  99  19.027926\n",
       "4               4  60  1935    0   99   99   99  99  99  24.685810\n",
       "...           ...  ..   ...  ...  ...  ...  ...  ..  ..        ...\n",
       "31315       31315  65  1950    1    1    1    2   5   1  21.379046\n",
       "31316       31316  65  1950    1    1    1    2   5   2  21.645223\n",
       "31317       31317  65  1950    1    1    1    2   5   3  21.806265\n",
       "31318       31318  65  1950    1    1    1    2   5   4  22.004739\n",
       "31319       31319  65  1950    1    1    1    2   5   5  23.946452\n",
       "\n",
       "[31320 rows x 10 columns]"
      ]
     },
     "execution_count": 2,
     "metadata": {},
     "output_type": "execute_result"
    }
   ],
   "source": [
    "df"
   ]
  },
  {
   "cell_type": "markdown",
   "id": "70f7667c",
   "metadata": {},
   "source": [
    "    Retrieve exepected lifespan for given characteristics, both at AC=60 and AC=65"
   ]
  },
  {
   "cell_type": "code",
   "execution_count": 103,
   "id": "d54665bd",
   "metadata": {},
   "outputs": [],
   "source": [
    "def get_exp_ls(coh,sex,dis,imm,mrt,p,pp):\n",
    "    life_exp=[]\n",
    "    for num in [60, 65]:\n",
    "        filter = (df[\n",
    "        (df['AC'] == num) &          # 60 61 62 63 64 65\n",
    "        (df['coh'] == coh) &      # 1926 1930 1935 1940 1945 1950\n",
    "        (df['sex'] == sex) &         # 0(w) 1(m) No\n",
    "        (df['dis'] == dis) &         # 0(no) 1(yes)\n",
    "        (df['imm'] == imm) &         # 0(no) 1(yes) No\n",
    "        (df['mrt'] == mrt) &         # 0(div/single) 1(marr) 2(widow) No\n",
    "        (df['p'] == p) &           # 1 2 3 4 5 No\n",
    "        (df['pp'] == pp)])          # 0(no) 1 2 3 4 5 No\n",
    "        if num==60:\n",
    "            sum_60 = filter['ex60'].describe().loc['mean']\n",
    "            life_exp.append(sum_60)\n",
    "        elif num==65:\n",
    "            sum_65 = filter['ex60'].describe().loc['mean']\n",
    "            life_exp.append(sum_65)\n",
    "    return life_exp"
   ]
  },
  {
   "cell_type": "code",
   "execution_count": 166,
   "id": "72eaaadc",
   "metadata": {},
   "outputs": [
    {
     "name": "stdout",
     "output_type": "stream",
     "text": [
      "[13.663432735556556, 14.335483471812422]\n"
     ]
    }
   ],
   "source": [
    "test=get_exp_ls(1926,1,1,0,2,1,0)\n",
    "print(test)"
   ]
  },
  {
   "cell_type": "markdown",
   "id": "a679d73d",
   "metadata": {},
   "source": [
    "    Calculate the present value of a lifetime annuity with monthly payments"
   ]
  },
  {
   "cell_type": "code",
   "execution_count": 99,
   "id": "20c66f93",
   "metadata": {},
   "outputs": [],
   "source": [
    "def present_value_lifetime_annuity(payment_per_period, annual_interest_rate, life_expectancy_years):\n",
    "    \n",
    "    monthly_interest_rate = annual_interest_rate / 12  # Convert annual interest rate to monthly\n",
    "    total_periods = life_expectancy_years * 12  # Convert life expectancy to months\n",
    "\n",
    "    if monthly_interest_rate == 0:\n",
    "        present_value = payment_per_period * total_periods\n",
    "    else:\n",
    "        present_value = payment_per_period / monthly_interest_rate * (1 - (1 / (1 + monthly_interest_rate) ** total_periods))\n",
    "    return present_value"
   ]
  },
  {
   "cell_type": "markdown",
   "id": "7b14d442",
   "metadata": {},
   "source": [
    "    Calculate the cumulative value of a given cash flow over a range of ages with monthly compounding interest"
   ]
  },
  {
   "cell_type": "code",
   "execution_count": 100,
   "id": "71ec4003",
   "metadata": {},
   "outputs": [],
   "source": [
    "def cumulative_value_cashflow(cash_flow_per_month, annual_interest_rate, start_age, end_age):\n",
    "\n",
    "    monthly_interest_rate = annual_interest_rate / 12\n",
    "    num_months = int((end_age - start_age) * 12)  # Convert age range to months and exclude the end month\n",
    "    cumulative_value = 0\n",
    "    for month in range(num_months):\n",
    "        present_value = cash_flow_per_month * ((1 + monthly_interest_rate) ** month)\n",
    "        cumulative_value += present_value\n",
    "    return cumulative_value"
   ]
  },
  {
   "cell_type": "markdown",
   "id": "9828825b",
   "metadata": {},
   "source": [
    "    Calculate the reduced benefit induced by early claiming"
   ]
  },
  {
   "cell_type": "code",
   "execution_count": 101,
   "id": "59100ff2",
   "metadata": {},
   "outputs": [],
   "source": [
    "def calculate_reduced_benefit(original_benefit, retirement_age, reduction_rate):\n",
    "    if retirement_age >= 65:\n",
    "        return original_benefit  # No reduction if retirement age is 65 or older\n",
    "    else:\n",
    "        reduction_percent = (65 - retirement_age) * reduction_rate * 12  # Annual reduction rate\n",
    "        reduced_benefit = original_benefit * (1 - reduction_percent / 100)\n",
    "        return reduced_benefit"
   ]
  },
  {
   "cell_type": "markdown",
   "id": "bdb3307e",
   "metadata": {},
   "source": [
    "    Compare the values at ages 60 and 65 for different life expectancies"
   ]
  },
  {
   "cell_type": "code",
   "execution_count": 102,
   "id": "8d011695",
   "metadata": {},
   "outputs": [],
   "source": [
    "def compare_values(rrq_65, annual_interest_rate, start_age, end_age, adj_factor,coh,sex,dis,imm,mrt,p,pp):\n",
    "\n",
    "    comparisons = {}\n",
    "    life_expectancies=get_exp_ls(coh,sex,dis,imm,mrt,p,pp)\n",
    "    for life_expectancy in life_expectancies:\n",
    "        # Calculate the reduced RRQ benefit at age 60\n",
    "        rrq_60 = calculate_reduced_benefit(rrq_65, start_age, adj_factor)\n",
    "\n",
    "        # Calculate the cumulative value at age 60\n",
    "        cumulative_value_60 = cumulative_value_cashflow(rrq_60, annual_interest_rate, start_age, end_age) + present_value_lifetime_annuity(rrq_60, annual_interest_rate, life_expectancy)\n",
    "\n",
    "        # Calculate the present value of a lifetime annuity at age 65\n",
    "        val_claim_65 = present_value_lifetime_annuity(rrq_65, annual_interest_rate, life_expectancy)\n",
    "\n",
    "        comparisons[life_expectancy] = {\n",
    "            \"Value at 60\": cumulative_value_60,\n",
    "            \"Value at 65\": val_claim_65\n",
    "        }\n",
    "\n",
    "    return comparisons"
   ]
  },
  {
   "cell_type": "markdown",
   "id": "8b65e915",
   "metadata": {},
   "source": [
    "    Fill in characteristics of pension and of person, returns value of annuity"
   ]
  },
  {
   "cell_type": "code",
   "execution_count": 165,
   "id": "d8fb7eb7",
   "metadata": {},
   "outputs": [
    {
     "name": "stdout",
     "output_type": "stream",
     "text": [
      "Value of annuity when claimed: @60 w/ exp_ls@60 127376.0\n",
      "Value of annuity when claimed: @65 w/ exp_ls@60 134378.3\n"
     ]
    }
   ],
   "source": [
    "rrq_65 = 1000\n",
    "annual_interest_rate = 0.03\n",
    "start_age = 60\n",
    "end_age = 65\n",
    "adj_factor = .6\n",
    "coh = 1926       #1926 1930 1935 1940 1945 1950\n",
    "sex = 1          #0=female, 1=male, 99=model estimated without the characteristic\n",
    "dis = 1          #0=has not claimed disability\n",
    "imm = 0          #0=not immigrant, 99=model estimated without the characteristic\n",
    "mrt = 2          #1=divorced/single, 1=married, 2=widowed, 99=model estimated without the characteristic\n",
    "p = 1            #public pension in quintiles (1 to 5), 99=model estimated without the characteristic\n",
    "pp = 0           #private pension in quintiles (0 to 5), 0=no private pension, 99=model estimated without the characteristic\n",
    "\n",
    "\n",
    "comparison_results = compare_values(rrq_65, annual_interest_rate, start_age, end_age, adj_factor, coh, sex, dis, imm, mrt, p ,pp)\n",
    "\n",
    "life_expectancies = list(comparison_results.keys())\n",
    "values_at_60 = [comparison_results[life_exp][\"Value at 60\"] for life_exp in life_expectancies]\n",
    "print(\"Value of annuity at 60yo when w/ exp_ls@60\",round(values_at_60[0],1))\n",
    "print(\"Value of annuity when claimed: @60 w/ exp_ls@60\",round(values_at_65[0],1))"
   ]
  },
  {
   "cell_type": "code",
   "execution_count": null,
   "id": "4ca2c16c",
   "metadata": {},
   "outputs": [],
   "source": []
  }
 ],
 "metadata": {
  "kernelspec": {
   "display_name": "Python 3 (ipykernel)",
   "language": "python",
   "name": "python3"
  },
  "language_info": {
   "codemirror_mode": {
    "name": "ipython",
    "version": 3
   },
   "file_extension": ".py",
   "mimetype": "text/x-python",
   "name": "python",
   "nbconvert_exporter": "python",
   "pygments_lexer": "ipython3",
   "version": "3.11.3"
  }
 },
 "nbformat": 4,
 "nbformat_minor": 5
}
